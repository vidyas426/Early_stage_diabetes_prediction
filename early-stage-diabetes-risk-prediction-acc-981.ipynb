{
 "cells": [
  {
   "cell_type": "markdown",
   "metadata": {
    "papermill": {
     "duration": 0.057996,
     "end_time": "2020-09-26T17:03:43.304205",
     "exception": false,
     "start_time": "2020-09-26T17:03:43.246209",
     "status": "completed"
    },
    "tags": []
   },
   "source": [
    "**Early stage Diabetes Risk prediction**   (Acc=98%)\n",
    "**Please upvote**"
   ]
  },
  {
   "cell_type": "markdown",
   "metadata": {
    "papermill": {
     "duration": 0.056799,
     "end_time": "2020-09-26T17:03:43.416221",
     "exception": false,
     "start_time": "2020-09-26T17:03:43.359422",
     "status": "completed"
    },
    "tags": []
   },
   "source": [
    "#Task:Early stage Diabetes prediction\n",
    "* The number of Diabetes patients are increasing in recent years.Machine learning models helps in early detection and  the diagnosis needed.Now predicting whether a person had daibetes or not by Exploring data analysis, Feature selection ,Building models. "
   ]
  },
  {
   "cell_type": "markdown",
   "metadata": {
    "papermill": {
     "duration": 0.055832,
     "end_time": "2020-09-26T17:03:43.529116",
     "exception": false,
     "start_time": "2020-09-26T17:03:43.473284",
     "status": "completed"
    },
    "tags": []
   },
   "source": [
    "#Importing necessary libraries"
   ]
  },
  {
   "cell_type": "code",
   "execution_count": 1,
   "metadata": {
    "execution": {
     "iopub.execute_input": "2020-09-26T17:03:43.641311Z",
     "iopub.status.busy": "2020-09-26T17:03:43.640622Z",
     "iopub.status.idle": "2020-09-26T17:03:44.565800Z",
     "shell.execute_reply": "2020-09-26T17:03:44.566417Z"
    },
    "papermill": {
     "duration": 0.983215,
     "end_time": "2020-09-26T17:03:44.566618",
     "exception": false,
     "start_time": "2020-09-26T17:03:43.583403",
     "status": "completed"
    },
    "tags": []
   },
   "outputs": [],
   "source": [
    "import numpy as np\n",
    "import pandas as pd\n",
    "import matplotlib.pyplot as plt\n",
    "import seaborn as sns\n",
    "from sklearn.metrics import accuracy_score,confusion_matrix\n",
    "%matplotlib inline"
   ]
  },
  {
   "cell_type": "markdown",
   "metadata": {
    "papermill": {
     "duration": 0.055009,
     "end_time": "2020-09-26T17:03:44.679282",
     "exception": false,
     "start_time": "2020-09-26T17:03:44.624273",
     "status": "completed"
    },
    "tags": []
   },
   "source": [
    "**Have a look at the dataset**"
   ]
  },
  {
   "cell_type": "code",
   "execution_count": 2,
   "metadata": {
    "execution": {
     "iopub.execute_input": "2020-09-26T17:03:44.794663Z",
     "iopub.status.busy": "2020-09-26T17:03:44.794047Z",
     "iopub.status.idle": "2020-09-26T17:03:44.836353Z",
     "shell.execute_reply": "2020-09-26T17:03:44.836928Z"
    },
    "papermill": {
     "duration": 0.100881,
     "end_time": "2020-09-26T17:03:44.837069",
     "exception": false,
     "start_time": "2020-09-26T17:03:44.736188",
     "status": "completed"
    },
    "tags": []
   },
   "outputs": [
    {
     "data": {
      "text/html": [
       "<div>\n",
       "<style scoped>\n",
       "    .dataframe tbody tr th:only-of-type {\n",
       "        vertical-align: middle;\n",
       "    }\n",
       "\n",
       "    .dataframe tbody tr th {\n",
       "        vertical-align: top;\n",
       "    }\n",
       "\n",
       "    .dataframe thead th {\n",
       "        text-align: right;\n",
       "    }\n",
       "</style>\n",
       "<table border=\"1\" class=\"dataframe\">\n",
       "  <thead>\n",
       "    <tr style=\"text-align: right;\">\n",
       "      <th></th>\n",
       "      <th>Age</th>\n",
       "      <th>Gender</th>\n",
       "      <th>Polyuria</th>\n",
       "      <th>Polydipsia</th>\n",
       "      <th>sudden weight loss</th>\n",
       "      <th>weakness</th>\n",
       "      <th>Polyphagia</th>\n",
       "      <th>Genital thrush</th>\n",
       "      <th>visual blurring</th>\n",
       "      <th>Itching</th>\n",
       "      <th>Irritability</th>\n",
       "      <th>delayed healing</th>\n",
       "      <th>partial paresis</th>\n",
       "      <th>muscle stiffness</th>\n",
       "      <th>Alopecia</th>\n",
       "      <th>Obesity</th>\n",
       "      <th>class</th>\n",
       "    </tr>\n",
       "  </thead>\n",
       "  <tbody>\n",
       "    <tr>\n",
       "      <th>0</th>\n",
       "      <td>40</td>\n",
       "      <td>Male</td>\n",
       "      <td>No</td>\n",
       "      <td>Yes</td>\n",
       "      <td>No</td>\n",
       "      <td>Yes</td>\n",
       "      <td>No</td>\n",
       "      <td>No</td>\n",
       "      <td>No</td>\n",
       "      <td>Yes</td>\n",
       "      <td>No</td>\n",
       "      <td>Yes</td>\n",
       "      <td>No</td>\n",
       "      <td>Yes</td>\n",
       "      <td>Yes</td>\n",
       "      <td>Yes</td>\n",
       "      <td>Positive</td>\n",
       "    </tr>\n",
       "    <tr>\n",
       "      <th>1</th>\n",
       "      <td>58</td>\n",
       "      <td>Male</td>\n",
       "      <td>No</td>\n",
       "      <td>No</td>\n",
       "      <td>No</td>\n",
       "      <td>Yes</td>\n",
       "      <td>No</td>\n",
       "      <td>No</td>\n",
       "      <td>Yes</td>\n",
       "      <td>No</td>\n",
       "      <td>No</td>\n",
       "      <td>No</td>\n",
       "      <td>Yes</td>\n",
       "      <td>No</td>\n",
       "      <td>Yes</td>\n",
       "      <td>No</td>\n",
       "      <td>Positive</td>\n",
       "    </tr>\n",
       "    <tr>\n",
       "      <th>2</th>\n",
       "      <td>41</td>\n",
       "      <td>Male</td>\n",
       "      <td>Yes</td>\n",
       "      <td>No</td>\n",
       "      <td>No</td>\n",
       "      <td>Yes</td>\n",
       "      <td>Yes</td>\n",
       "      <td>No</td>\n",
       "      <td>No</td>\n",
       "      <td>Yes</td>\n",
       "      <td>No</td>\n",
       "      <td>Yes</td>\n",
       "      <td>No</td>\n",
       "      <td>Yes</td>\n",
       "      <td>Yes</td>\n",
       "      <td>No</td>\n",
       "      <td>Positive</td>\n",
       "    </tr>\n",
       "    <tr>\n",
       "      <th>3</th>\n",
       "      <td>45</td>\n",
       "      <td>Male</td>\n",
       "      <td>No</td>\n",
       "      <td>No</td>\n",
       "      <td>Yes</td>\n",
       "      <td>Yes</td>\n",
       "      <td>Yes</td>\n",
       "      <td>Yes</td>\n",
       "      <td>No</td>\n",
       "      <td>Yes</td>\n",
       "      <td>No</td>\n",
       "      <td>Yes</td>\n",
       "      <td>No</td>\n",
       "      <td>No</td>\n",
       "      <td>No</td>\n",
       "      <td>No</td>\n",
       "      <td>Positive</td>\n",
       "    </tr>\n",
       "    <tr>\n",
       "      <th>4</th>\n",
       "      <td>60</td>\n",
       "      <td>Male</td>\n",
       "      <td>Yes</td>\n",
       "      <td>Yes</td>\n",
       "      <td>Yes</td>\n",
       "      <td>Yes</td>\n",
       "      <td>Yes</td>\n",
       "      <td>No</td>\n",
       "      <td>Yes</td>\n",
       "      <td>Yes</td>\n",
       "      <td>Yes</td>\n",
       "      <td>Yes</td>\n",
       "      <td>Yes</td>\n",
       "      <td>Yes</td>\n",
       "      <td>Yes</td>\n",
       "      <td>Yes</td>\n",
       "      <td>Positive</td>\n",
       "    </tr>\n",
       "  </tbody>\n",
       "</table>\n",
       "</div>"
      ],
      "text/plain": [
       "   Age Gender Polyuria Polydipsia sudden weight loss weakness Polyphagia  \\\n",
       "0   40   Male       No        Yes                 No      Yes         No   \n",
       "1   58   Male       No         No                 No      Yes         No   \n",
       "2   41   Male      Yes         No                 No      Yes        Yes   \n",
       "3   45   Male       No         No                Yes      Yes        Yes   \n",
       "4   60   Male      Yes        Yes                Yes      Yes        Yes   \n",
       "\n",
       "  Genital thrush visual blurring Itching Irritability delayed healing  \\\n",
       "0             No              No     Yes           No             Yes   \n",
       "1             No             Yes      No           No              No   \n",
       "2             No              No     Yes           No             Yes   \n",
       "3            Yes              No     Yes           No             Yes   \n",
       "4             No             Yes     Yes          Yes             Yes   \n",
       "\n",
       "  partial paresis muscle stiffness Alopecia Obesity     class  \n",
       "0              No              Yes      Yes     Yes  Positive  \n",
       "1             Yes               No      Yes      No  Positive  \n",
       "2              No              Yes      Yes      No  Positive  \n",
       "3              No               No       No      No  Positive  \n",
       "4             Yes              Yes      Yes     Yes  Positive  "
      ]
     },
     "execution_count": 2,
     "metadata": {},
     "output_type": "execute_result"
    }
   ],
   "source": [
    "dataset = pd.read_csv('../input/early-stage-diabetes-risk-prediction-dataset/diabetes_data_upload.csv')\n",
    "dataset.head()"
   ]
  },
  {
   "cell_type": "markdown",
   "metadata": {
    "papermill": {
     "duration": 0.056176,
     "end_time": "2020-09-26T17:03:44.950634",
     "exception": false,
     "start_time": "2020-09-26T17:03:44.894458",
     "status": "completed"
    },
    "tags": []
   },
   "source": [
    "**Checking whether dataset has null values**"
   ]
  },
  {
   "cell_type": "code",
   "execution_count": 3,
   "metadata": {
    "execution": {
     "iopub.execute_input": "2020-09-26T17:03:45.074164Z",
     "iopub.status.busy": "2020-09-26T17:03:45.072244Z",
     "iopub.status.idle": "2020-09-26T17:03:45.471359Z",
     "shell.execute_reply": "2020-09-26T17:03:45.471826Z"
    },
    "papermill": {
     "duration": 0.463898,
     "end_time": "2020-09-26T17:03:45.471970",
     "exception": false,
     "start_time": "2020-09-26T17:03:45.008072",
     "status": "completed"
    },
    "tags": []
   },
   "outputs": [
    {
     "data": {
      "text/plain": [
       "<matplotlib.axes._subplots.AxesSubplot at 0x7f8a3baf6310>"
      ]
     },
     "execution_count": 3,
     "metadata": {},
     "output_type": "execute_result"
    },
    {
     "data": {
      "image/png": "[encoded data removed]",
      "text/plain": [
       "<Figure size 432x288 with 2 Axes>"
      ]
     },
     "metadata": {
      "needs_background": "light"
     },
     "output_type": "display_data"
    }
   ],
   "source": [
    "sns.heatmap(dataset.isnull())"
   ]
  },
  {
   "cell_type": "code",
   "execution_count": 4,
   "metadata": {
    "execution": {
     "iopub.execute_input": "2020-09-26T17:03:45.588501Z",
     "iopub.status.busy": "2020-09-26T17:03:45.587974Z",
     "iopub.status.idle": "2020-09-26T17:03:45.597421Z",
     "shell.execute_reply": "2020-09-26T17:03:45.597939Z"
    },
    "papermill": {
     "duration": 0.069149,
     "end_time": "2020-09-26T17:03:45.598057",
     "exception": false,
     "start_time": "2020-09-26T17:03:45.528908",
     "status": "completed"
    },
    "tags": []
   },
   "outputs": [
    {
     "data": {
      "text/plain": [
       "Positive    320\n",
       "Negative    200\n",
       "Name: class, dtype: int64"
      ]
     },
     "execution_count": 4,
     "metadata": {},
     "output_type": "execute_result"
    }
   ],
   "source": [
    "dataset['class'].value_counts()"
   ]
  },
  {
   "cell_type": "markdown",
   "metadata": {
    "papermill": {
     "duration": 0.062052,
     "end_time": "2020-09-26T17:03:45.718209",
     "exception": false,
     "start_time": "2020-09-26T17:03:45.656157",
     "status": "completed"
    },
    "tags": []
   },
   "source": [
    "**Mapping text into values**"
   ]
  },
  {
   "cell_type": "code",
   "execution_count": 5,
   "metadata": {
    "execution": {
     "iopub.execute_input": "2020-09-26T17:03:45.838496Z",
     "iopub.status.busy": "2020-09-26T17:03:45.837589Z",
     "iopub.status.idle": "2020-09-26T17:03:45.870842Z",
     "shell.execute_reply": "2020-09-26T17:03:45.871325Z"
    },
    "papermill": {
     "duration": 0.096243,
     "end_time": "2020-09-26T17:03:45.871447",
     "exception": false,
     "start_time": "2020-09-26T17:03:45.775204",
     "status": "completed"
    },
    "tags": []
   },
   "outputs": [],
   "source": [
    "dataset['Gender'] = dataset['Gender'].map({'Male':1,'Female':0})\n",
    "dataset['class'] = dataset['class'].map({'Positive':1,'Negative':0})\n",
    "dataset['Polyuria'] = dataset['Polyuria'].map({'Yes':1,'No':0})\n",
    "dataset['Polydipsia'] = dataset['Polydipsia'].map({'Yes':1,'No':0})\n",
    "dataset['sudden weight loss'] = dataset['sudden weight loss'].map({'Yes':1,'No':0})\n",
    "dataset['weakness'] = dataset['weakness'].map({'Yes':1,'No':0})\n",
    "dataset['Polyphagia'] = dataset['Polyphagia'].map({'Yes':1,'No':0})\n",
    "dataset['Genital thrush'] = dataset['Genital thrush'].map({'Yes':1,'No':0})\n",
    "dataset['visual blurring'] = dataset['visual blurring'].map({'Yes':1,'No':0})\n",
    "dataset['Itching'] = dataset['Itching'].map({'Yes':1,'No':0})\n",
    "dataset['Irritability'] = dataset['Irritability'].map({'Yes':1,'No':0})\n",
    "dataset['delayed healing'] = dataset['delayed healing'].map({'Yes':1,'No':0})\n",
    "dataset['partial paresis'] = dataset['partial paresis'].map({'Yes':1,'No':0})\n",
    "dataset['muscle stiffness'] = dataset['muscle stiffness'].map({'Yes':1,'No':0})\n",
    "dataset['Alopecia'] = dataset['Alopecia'].map({'Yes':1,'No':0})\n",
    "dataset['Obesity'] = dataset['Obesity'].map({'Yes':1,'No':0})"
   ]
  },
  {
   "cell_type": "markdown",
   "metadata": {
    "papermill": {
     "duration": 0.05927,
     "end_time": "2020-09-26T17:03:45.990228",
     "exception": false,
     "start_time": "2020-09-26T17:03:45.930958",
     "status": "completed"
    },
    "tags": []
   },
   "source": [
    "# EDA"
   ]
  },
  {
   "cell_type": "markdown",
   "metadata": {
    "papermill": {
     "duration": 0.059512,
     "end_time": "2020-09-26T17:03:46.110266",
     "exception": false,
     "start_time": "2020-09-26T17:03:46.050754",
     "status": "completed"
    },
    "tags": []
   },
   "source": [
    "**Analysing the correlation between independent and dependent variables**\n",
    "considering independent variables that has high correlation with the dependent variables and less correlation with other variables"
   ]
  },
  {
   "cell_type": "code",
   "execution_count": 6,
   "metadata": {
    "execution": {
     "iopub.execute_input": "2020-09-26T17:03:46.229969Z",
     "iopub.status.busy": "2020-09-26T17:03:46.229384Z",
     "iopub.status.idle": "2020-09-26T17:03:46.235335Z",
     "shell.execute_reply": "2020-09-26T17:03:46.235850Z"
    },
    "papermill": {
     "duration": 0.067914,
     "end_time": "2020-09-26T17:03:46.236004",
     "exception": false,
     "start_time": "2020-09-26T17:03:46.168090",
     "status": "completed"
    },
    "tags": []
   },
   "outputs": [],
   "source": [
    "corrdata = dataset.corr()"
   ]
  },
  {
   "cell_type": "code",
   "execution_count": 7,
   "metadata": {
    "execution": {
     "iopub.execute_input": "2020-09-26T17:03:46.354154Z",
     "iopub.status.busy": "2020-09-26T17:03:46.353215Z",
     "iopub.status.idle": "2020-09-26T17:03:47.511837Z",
     "shell.execute_reply": "2020-09-26T17:03:47.512312Z"
    },
    "papermill": {
     "duration": 1.219022,
     "end_time": "2020-09-26T17:03:47.512473",
     "exception": false,
     "start_time": "2020-09-26T17:03:46.293451",
     "status": "completed"
    },
    "scrolled": true,
    "tags": []
   },
   "outputs": [
    {
     "data": {
      "text/plain": [
       "<matplotlib.axes._subplots.AxesSubplot at 0x7f8a3b84d0d0>"
      ]
     },
     "execution_count": 7,
     "metadata": {},
     "output_type": "execute_result"
    },
    {
     "data": {
      "image/png": "[encoded data removed]",
      "text/plain": [
       "<Figure size 1080x576 with 2 Axes>"
      ]
     },
     "metadata": {
      "needs_background": "light"
     },
     "output_type": "display_data"
    }
   ],
   "source": [
    "ax,fig = plt.subplots(figsize=(15,8))\n",
    "sns.heatmap(corrdata,annot=True)"
   ]
  },
  {
   "cell_type": "markdown",
   "metadata": {
    "papermill": {
     "duration": 0.061841,
     "end_time": "2020-09-26T17:03:47.636982",
     "exception": false,
     "start_time": "2020-09-26T17:03:47.575141",
     "status": "completed"
    },
    "tags": []
   },
   "source": [
    "**Age distribution**"
   ]
  },
  {
   "cell_type": "code",
   "execution_count": 8,
   "metadata": {
    "execution": {
     "iopub.execute_input": "2020-09-26T17:03:47.766854Z",
     "iopub.status.busy": "2020-09-26T17:03:47.766324Z",
     "iopub.status.idle": "2020-09-26T17:03:47.939194Z",
     "shell.execute_reply": "2020-09-26T17:03:47.939740Z"
    },
    "papermill": {
     "duration": 0.239232,
     "end_time": "2020-09-26T17:03:47.939877",
     "exception": false,
     "start_time": "2020-09-26T17:03:47.700645",
     "status": "completed"
    },
    "tags": []
   },
   "outputs": [
    {
     "data": {
      "text/plain": [
       "<matplotlib.axes._subplots.AxesSubplot at 0x7f8a3b281850>"
      ]
     },
     "execution_count": 8,
     "metadata": {},
     "output_type": "execute_result"
    },
    {
     "data": {
      "image/png": "[encoded data removed]",
      "text/plain": [
       "<Figure size 432x288 with 1 Axes>"
      ]
     },
     "metadata": {
      "needs_background": "light"
     },
     "output_type": "display_data"
    }
   ],
   "source": [
    "sns.distplot(dataset['Age'],bins=30)  "
   ]
  },
  {
   "cell_type": "markdown",
   "metadata": {
    "papermill": {
     "duration": 0.065503,
     "end_time": "2020-09-26T17:03:48.070038",
     "exception": false,
     "start_time": "2020-09-26T17:03:48.004535",
     "status": "completed"
    },
    "tags": []
   },
   "source": [
    "**Age/class(dependent variable)**"
   ]
  },
  {
   "cell_type": "code",
   "execution_count": 9,
   "metadata": {
    "execution": {
     "iopub.execute_input": "2020-09-26T17:03:48.243687Z",
     "iopub.status.busy": "2020-09-26T17:03:48.243146Z",
     "iopub.status.idle": "2020-09-26T17:03:48.422742Z",
     "shell.execute_reply": "2020-09-26T17:03:48.422138Z"
    },
    "papermill": {
     "duration": 0.250315,
     "end_time": "2020-09-26T17:03:48.422842",
     "exception": false,
     "start_time": "2020-09-26T17:03:48.172527",
     "status": "completed"
    },
    "tags": []
   },
   "outputs": [
    {
     "data": {
      "text/plain": [
       "<matplotlib.axes._subplots.AxesSubplot at 0x7f8a3b2815d0>"
      ]
     },
     "execution_count": 9,
     "metadata": {},
     "output_type": "execute_result"
    },
    {
     "data": {
      "image/png": "[encoded data removed]",
      "text/plain": [
       "<Figure size 432x288 with 1 Axes>"
      ]
     },
     "metadata": {
      "needs_background": "light"
     },
     "output_type": "display_data"
    }
   ],
   "source": [
    "sns.barplot(x='class',y='Age',data=dataset)"
   ]
  },
  {
   "cell_type": "code",
   "execution_count": 10,
   "metadata": {
    "execution": {
     "iopub.execute_input": "2020-09-26T17:03:48.563549Z",
     "iopub.status.busy": "2020-09-26T17:03:48.562904Z",
     "iopub.status.idle": "2020-09-26T17:03:48.648295Z",
     "shell.execute_reply": "2020-09-26T17:03:48.648749Z"
    },
    "papermill": {
     "duration": 0.160217,
     "end_time": "2020-09-26T17:03:48.648895",
     "exception": false,
     "start_time": "2020-09-26T17:03:48.488678",
     "status": "completed"
    },
    "tags": []
   },
   "outputs": [
    {
     "data": {
      "image/png": "[encoded data removed]",
      "text/plain": [
       "<Figure size 432x288 with 1 Axes>"
      ]
     },
     "metadata": {},
     "output_type": "display_data"
    }
   ],
   "source": [
    "ds = dataset['class'].value_counts().reset_index()\n",
    "ds.columns = ['class', 'count']\n",
    "plot=ds.plot.pie(y='count')"
   ]
  },
  {
   "cell_type": "markdown",
   "metadata": {
    "papermill": {
     "duration": 0.086641,
     "end_time": "2020-09-26T17:03:48.816899",
     "exception": false,
     "start_time": "2020-09-26T17:03:48.730258",
     "status": "completed"
    },
    "tags": []
   },
   "source": [
    "**Gender**"
   ]
  },
  {
   "cell_type": "code",
   "execution_count": 11,
   "metadata": {
    "execution": {
     "iopub.execute_input": "2020-09-26T17:03:48.958466Z",
     "iopub.status.busy": "2020-09-26T17:03:48.957860Z",
     "iopub.status.idle": "2020-09-26T17:03:49.082975Z",
     "shell.execute_reply": "2020-09-26T17:03:49.083450Z"
    },
    "papermill": {
     "duration": 0.19762,
     "end_time": "2020-09-26T17:03:49.083595",
     "exception": false,
     "start_time": "2020-09-26T17:03:48.885975",
     "status": "completed"
    },
    "tags": []
   },
   "outputs": [
    {
     "data": {
      "text/plain": [
       "<matplotlib.axes._subplots.AxesSubplot at 0x7f8a3b5a1e50>"
      ]
     },
     "execution_count": 11,
     "metadata": {},
     "output_type": "execute_result"
    },
    {
     "data": {
      "image/png": "[encoded data removed]",
      "text/plain": [
       "<Figure size 432x288 with 1 Axes>"
      ]
     },
     "metadata": {
      "needs_background": "light"
     },
     "output_type": "display_data"
    }
   ],
   "source": [
    "sns.countplot(x='class',data=dataset,hue='Gender')"
   ]
  },
  {
   "cell_type": "markdown",
   "metadata": {
    "papermill": {
     "duration": 0.066101,
     "end_time": "2020-09-26T17:03:49.216894",
     "exception": false,
     "start_time": "2020-09-26T17:03:49.150793",
     "status": "completed"
    },
    "tags": []
   },
   "source": [
    "**Polyuria**"
   ]
  },
  {
   "cell_type": "code",
   "execution_count": 12,
   "metadata": {
    "execution": {
     "iopub.execute_input": "2020-09-26T17:03:49.360536Z",
     "iopub.status.busy": "2020-09-26T17:03:49.356036Z",
     "iopub.status.idle": "2020-09-26T17:03:49.566433Z",
     "shell.execute_reply": "2020-09-26T17:03:49.566940Z"
    },
    "papermill": {
     "duration": 0.284547,
     "end_time": "2020-09-26T17:03:49.567086",
     "exception": false,
     "start_time": "2020-09-26T17:03:49.282539",
     "status": "completed"
    },
    "tags": []
   },
   "outputs": [
    {
     "data": {
      "text/plain": [
       "<seaborn.axisgrid.FacetGrid at 0x7f8a3b5a1390>"
      ]
     },
     "execution_count": 12,
     "metadata": {},
     "output_type": "execute_result"
    },
    {
     "data": {
      "image/png": "[encoded data removed]",
      "text/plain": [
       "<Figure size 360x360 with 1 Axes>"
      ]
     },
     "metadata": {
      "needs_background": "light"
     },
     "output_type": "display_data"
    }
   ],
   "source": [
    "sns.catplot(x=\"Polyuria\", y=\"class\", kind=\"point\", data=dataset)\n"
   ]
  },
  {
   "cell_type": "markdown",
   "metadata": {
    "papermill": {
     "duration": 0.07701,
     "end_time": "2020-09-26T17:03:49.717810",
     "exception": false,
     "start_time": "2020-09-26T17:03:49.640800",
     "status": "completed"
    },
    "tags": []
   },
   "source": [
    "**Polydipsia**"
   ]
  },
  {
   "cell_type": "code",
   "execution_count": 13,
   "metadata": {
    "execution": {
     "iopub.execute_input": "2020-09-26T17:03:49.865646Z",
     "iopub.status.busy": "2020-09-26T17:03:49.865077Z",
     "iopub.status.idle": "2020-09-26T17:03:50.035647Z",
     "shell.execute_reply": "2020-09-26T17:03:50.034991Z"
    },
    "papermill": {
     "duration": 0.246716,
     "end_time": "2020-09-26T17:03:50.035768",
     "exception": false,
     "start_time": "2020-09-26T17:03:49.789052",
     "status": "completed"
    },
    "tags": []
   },
   "outputs": [
    {
     "data": {
      "text/plain": [
       "<matplotlib.axes._subplots.AxesSubplot at 0x7f8a3378c1d0>"
      ]
     },
     "execution_count": 13,
     "metadata": {},
     "output_type": "execute_result"
    },
    {
     "data": {
      "image/png": "[encoded data removed]",
      "text/plain": [
       "<Figure size 432x288 with 1 Axes>"
      ]
     },
     "metadata": {
      "needs_background": "light"
     },
     "output_type": "display_data"
    }
   ],
   "source": [
    "sns.barplot(x='Polydipsia',y='class',data=dataset)"
   ]
  },
  {
   "cell_type": "markdown",
   "metadata": {
    "papermill": {
     "duration": 0.067395,
     "end_time": "2020-09-26T17:03:50.173247",
     "exception": false,
     "start_time": "2020-09-26T17:03:50.105852",
     "status": "completed"
    },
    "tags": []
   },
   "source": [
    "**Sudden weight loss**"
   ]
  },
  {
   "cell_type": "code",
   "execution_count": 14,
   "metadata": {
    "execution": {
     "iopub.execute_input": "2020-09-26T17:03:50.323736Z",
     "iopub.status.busy": "2020-09-26T17:03:50.318914Z",
     "iopub.status.idle": "2020-09-26T17:03:50.444045Z",
     "shell.execute_reply": "2020-09-26T17:03:50.444523Z"
    },
    "papermill": {
     "duration": 0.203707,
     "end_time": "2020-09-26T17:03:50.444670",
     "exception": false,
     "start_time": "2020-09-26T17:03:50.240963",
     "status": "completed"
    },
    "tags": []
   },
   "outputs": [
    {
     "data": {
      "text/plain": [
       "<matplotlib.axes._subplots.AxesSubplot at 0x7f8a3375d810>"
      ]
     },
     "execution_count": 14,
     "metadata": {},
     "output_type": "execute_result"
    },
    {
     "data": {
      "image/png": "[encoded data removed]",
      "text/plain": [
       "<Figure size 432x288 with 1 Axes>"
      ]
     },
     "metadata": {
      "needs_background": "light"
     },
     "output_type": "display_data"
    }
   ],
   "source": [
    "sns.countplot(x='class',data=dataset,hue='sudden weight loss')"
   ]
  },
  {
   "cell_type": "markdown",
   "metadata": {
    "papermill": {
     "duration": 0.071333,
     "end_time": "2020-09-26T17:03:50.587325",
     "exception": false,
     "start_time": "2020-09-26T17:03:50.515992",
     "status": "completed"
    },
    "tags": []
   },
   "source": [
    "**Polyphagia**"
   ]
  },
  {
   "cell_type": "code",
   "execution_count": 15,
   "metadata": {
    "execution": {
     "iopub.execute_input": "2020-09-26T17:03:50.744454Z",
     "iopub.status.busy": "2020-09-26T17:03:50.741158Z",
     "iopub.status.idle": "2020-09-26T17:03:50.872688Z",
     "shell.execute_reply": "2020-09-26T17:03:50.872133Z"
    },
    "papermill": {
     "duration": 0.214509,
     "end_time": "2020-09-26T17:03:50.872815",
     "exception": false,
     "start_time": "2020-09-26T17:03:50.658306",
     "status": "completed"
    },
    "tags": []
   },
   "outputs": [
    {
     "data": {
      "text/plain": [
       "<matplotlib.axes._subplots.AxesSubplot at 0x7f8a336ce810>"
      ]
     },
     "execution_count": 15,
     "metadata": {},
     "output_type": "execute_result"
    },
    {
     "data": {
      "image/png": "[encoded data removed]",
      "text/plain": [
       "<Figure size 432x288 with 1 Axes>"
      ]
     },
     "metadata": {
      "needs_background": "light"
     },
     "output_type": "display_data"
    }
   ],
   "source": [
    "sns.countplot(x='class',data=dataset, hue='Polyphagia')"
   ]
  },
  {
   "cell_type": "code",
   "execution_count": 16,
   "metadata": {
    "execution": {
     "iopub.execute_input": "2020-09-26T17:03:51.030396Z",
     "iopub.status.busy": "2020-09-26T17:03:51.028750Z",
     "iopub.status.idle": "2020-09-26T17:03:51.205017Z",
     "shell.execute_reply": "2020-09-26T17:03:51.204506Z"
    },
    "papermill": {
     "duration": 0.260489,
     "end_time": "2020-09-26T17:03:51.205140",
     "exception": false,
     "start_time": "2020-09-26T17:03:50.944651",
     "status": "completed"
    },
    "tags": []
   },
   "outputs": [
    {
     "data": {
      "text/plain": [
       "<matplotlib.axes._subplots.AxesSubplot at 0x7f8a336419d0>"
      ]
     },
     "execution_count": 16,
     "metadata": {},
     "output_type": "execute_result"
    },
    {
     "data": {
      "image/png": "[encoded data removed]",
      "text/plain": [
       "<Figure size 432x288 with 1 Axes>"
      ]
     },
     "metadata": {
      "needs_background": "light"
     },
     "output_type": "display_data"
    }
   ],
   "source": [
    "sns.barplot(x='Polyphagia',y='class',data=dataset)"
   ]
  },
  {
   "cell_type": "markdown",
   "metadata": {
    "papermill": {
     "duration": 0.071582,
     "end_time": "2020-09-26T17:03:51.346474",
     "exception": false,
     "start_time": "2020-09-26T17:03:51.274892",
     "status": "completed"
    },
    "tags": []
   },
   "source": [
    "**Genital Thrush**"
   ]
  },
  {
   "cell_type": "code",
   "execution_count": 17,
   "metadata": {
    "execution": {
     "iopub.execute_input": "2020-09-26T17:03:51.535786Z",
     "iopub.status.busy": "2020-09-26T17:03:51.531036Z",
     "iopub.status.idle": "2020-09-26T17:03:51.754878Z",
     "shell.execute_reply": "2020-09-26T17:03:51.754306Z"
    },
    "papermill": {
     "duration": 0.338842,
     "end_time": "2020-09-26T17:03:51.754990",
     "exception": false,
     "start_time": "2020-09-26T17:03:51.416148",
     "status": "completed"
    },
    "tags": []
   },
   "outputs": [
    {
     "data": {
      "text/plain": [
       "<seaborn.axisgrid.FacetGrid at 0x7f8a3363a990>"
      ]
     },
     "execution_count": 17,
     "metadata": {},
     "output_type": "execute_result"
    },
    {
     "data": {
      "image/png": "[encoded data removed]",
      "text/plain": [
       "<Figure size 360x360 with 1 Axes>"
      ]
     },
     "metadata": {
      "needs_background": "light"
     },
     "output_type": "display_data"
    }
   ],
   "source": [
    "sns.catplot(x='class',y='Genital thrush',kind='point',data=dataset)"
   ]
  },
  {
   "cell_type": "markdown",
   "metadata": {
    "papermill": {
     "duration": 0.073213,
     "end_time": "2020-09-26T17:03:51.900543",
     "exception": false,
     "start_time": "2020-09-26T17:03:51.827330",
     "status": "completed"
    },
    "tags": []
   },
   "source": [
    "**Partial paresis**"
   ]
  },
  {
   "cell_type": "code",
   "execution_count": 18,
   "metadata": {
    "execution": {
     "iopub.execute_input": "2020-09-26T17:03:52.071915Z",
     "iopub.status.busy": "2020-09-26T17:03:52.071292Z",
     "iopub.status.idle": "2020-09-26T17:03:52.249501Z",
     "shell.execute_reply": "2020-09-26T17:03:52.249040Z"
    },
    "papermill": {
     "duration": 0.275669,
     "end_time": "2020-09-26T17:03:52.249604",
     "exception": false,
     "start_time": "2020-09-26T17:03:51.973935",
     "status": "completed"
    },
    "tags": []
   },
   "outputs": [
    {
     "data": {
      "text/plain": [
       "<matplotlib.axes._subplots.AxesSubplot at 0x7f8a335a22d0>"
      ]
     },
     "execution_count": 18,
     "metadata": {},
     "output_type": "execute_result"
    },
    {
     "data": {
      "image/png": "[encoded data removed]",
      "text/plain": [
       "<Figure size 432x288 with 1 Axes>"
      ]
     },
     "metadata": {
      "needs_background": "light"
     },
     "output_type": "display_data"
    }
   ],
   "source": [
    "sns.barplot(x='class',y='partial paresis',data=dataset)"
   ]
  },
  {
   "cell_type": "markdown",
   "metadata": {
    "papermill": {
     "duration": 0.072726,
     "end_time": "2020-09-26T17:03:52.396685",
     "exception": false,
     "start_time": "2020-09-26T17:03:52.323959",
     "status": "completed"
    },
    "tags": []
   },
   "source": [
    "**Alopecia**"
   ]
  },
  {
   "cell_type": "code",
   "execution_count": 19,
   "metadata": {
    "execution": {
     "iopub.execute_input": "2020-09-26T17:03:52.551416Z",
     "iopub.status.busy": "2020-09-26T17:03:52.550762Z",
     "iopub.status.idle": "2020-09-26T17:03:52.687572Z",
     "shell.execute_reply": "2020-09-26T17:03:52.688138Z"
    },
    "papermill": {
     "duration": 0.217181,
     "end_time": "2020-09-26T17:03:52.688281",
     "exception": false,
     "start_time": "2020-09-26T17:03:52.471100",
     "status": "completed"
    },
    "tags": []
   },
   "outputs": [
    {
     "data": {
      "text/plain": [
       "<matplotlib.axes._subplots.AxesSubplot at 0x7f8a33504410>"
      ]
     },
     "execution_count": 19,
     "metadata": {},
     "output_type": "execute_result"
    },
    {
     "data": {
      "image/png": "[encoded data removed]",
      "text/plain": [
       "<Figure size 432x288 with 1 Axes>"
      ]
     },
     "metadata": {
      "needs_background": "light"
     },
     "output_type": "display_data"
    }
   ],
   "source": [
    "sns.violinplot(x='Alopecia',y='class',data=dataset)"
   ]
  },
  {
   "cell_type": "markdown",
   "metadata": {
    "papermill": {
     "duration": 0.077089,
     "end_time": "2020-09-26T17:03:52.844618",
     "exception": false,
     "start_time": "2020-09-26T17:03:52.767529",
     "status": "completed"
    },
    "tags": []
   },
   "source": [
    "**Visual blurring**"
   ]
  },
  {
   "cell_type": "code",
   "execution_count": 20,
   "metadata": {
    "execution": {
     "iopub.execute_input": "2020-09-26T17:03:53.009988Z",
     "iopub.status.busy": "2020-09-26T17:03:53.009025Z",
     "iopub.status.idle": "2020-09-26T17:03:53.186657Z",
     "shell.execute_reply": "2020-09-26T17:03:53.187181Z"
    },
    "papermill": {
     "duration": 0.266069,
     "end_time": "2020-09-26T17:03:53.187306",
     "exception": false,
     "start_time": "2020-09-26T17:03:52.921237",
     "status": "completed"
    },
    "tags": []
   },
   "outputs": [
    {
     "data": {
      "text/plain": [
       "<matplotlib.axes._subplots.AxesSubplot at 0x7f8a334f7ed0>"
      ]
     },
     "execution_count": 20,
     "metadata": {},
     "output_type": "execute_result"
    },
    {
     "data": {
      "image/png": "[encoded data removed]",
      "text/plain": [
       "<Figure size 432x288 with 1 Axes>"
      ]
     },
     "metadata": {
      "needs_background": "light"
     },
     "output_type": "display_data"
    }
   ],
   "source": [
    "sns.barplot(x=\"visual blurring\", y=\"class\", data=dataset)"
   ]
  },
  {
   "cell_type": "markdown",
   "metadata": {
    "papermill": {
     "duration": 0.078975,
     "end_time": "2020-09-26T17:03:53.344228",
     "exception": false,
     "start_time": "2020-09-26T17:03:53.265253",
     "status": "completed"
    },
    "tags": []
   },
   "source": [
    "**Itching**"
   ]
  },
  {
   "cell_type": "code",
   "execution_count": 21,
   "metadata": {
    "execution": {
     "iopub.execute_input": "2020-09-26T17:03:53.503710Z",
     "iopub.status.busy": "2020-09-26T17:03:53.500520Z",
     "iopub.status.idle": "2020-09-26T17:03:53.672730Z",
     "shell.execute_reply": "2020-09-26T17:03:53.673210Z"
    },
    "papermill": {
     "duration": 0.25248,
     "end_time": "2020-09-26T17:03:53.673352",
     "exception": false,
     "start_time": "2020-09-26T17:03:53.420872",
     "status": "completed"
    },
    "tags": []
   },
   "outputs": [
    {
     "data": {
      "text/plain": [
       "<matplotlib.axes._subplots.AxesSubplot at 0x7f8a334561d0>"
      ]
     },
     "execution_count": 21,
     "metadata": {},
     "output_type": "execute_result"
    },
    {
     "data": {
      "image/png": "[encoded data removed]",
      "text/plain": [
       "<Figure size 432x288 with 1 Axes>"
      ]
     },
     "metadata": {
      "needs_background": "light"
     },
     "output_type": "display_data"
    }
   ],
   "source": [
    "sns.barplot(x=\"Itching\", y=\"class\", data=dataset)"
   ]
  },
  {
   "cell_type": "markdown",
   "metadata": {
    "papermill": {
     "duration": 0.080334,
     "end_time": "2020-09-26T17:03:53.840530",
     "exception": false,
     "start_time": "2020-09-26T17:03:53.760196",
     "status": "completed"
    },
    "tags": []
   },
   "source": [
    "**Obesity**"
   ]
  },
  {
   "cell_type": "code",
   "execution_count": 22,
   "metadata": {
    "execution": {
     "iopub.execute_input": "2020-09-26T17:03:54.003453Z",
     "iopub.status.busy": "2020-09-26T17:03:54.002852Z",
     "iopub.status.idle": "2020-09-26T17:03:54.130660Z",
     "shell.execute_reply": "2020-09-26T17:03:54.131227Z"
    },
    "papermill": {
     "duration": 0.21101,
     "end_time": "2020-09-26T17:03:54.131354",
     "exception": false,
     "start_time": "2020-09-26T17:03:53.920344",
     "status": "completed"
    },
    "tags": []
   },
   "outputs": [
    {
     "data": {
      "text/plain": [
       "<matplotlib.axes._subplots.AxesSubplot at 0x7f8a33427690>"
      ]
     },
     "execution_count": 22,
     "metadata": {},
     "output_type": "execute_result"
    },
    {
     "data": {
      "image/png": "[encoded data removed]",
      "text/plain": [
       "<Figure size 432x288 with 1 Axes>"
      ]
     },
     "metadata": {
      "needs_background": "light"
     },
     "output_type": "display_data"
    }
   ],
   "source": [
    "sns.violinplot(x='Obesity',y='class',data=dataset)"
   ]
  },
  {
   "cell_type": "markdown",
   "metadata": {
    "papermill": {
     "duration": 0.079586,
     "end_time": "2020-09-26T17:03:54.291711",
     "exception": false,
     "start_time": "2020-09-26T17:03:54.212125",
     "status": "completed"
    },
    "tags": []
   },
   "source": [
    "**Irritability**"
   ]
  },
  {
   "cell_type": "code",
   "execution_count": 23,
   "metadata": {
    "execution": {
     "iopub.execute_input": "2020-09-26T17:03:54.456082Z",
     "iopub.status.busy": "2020-09-26T17:03:54.455404Z",
     "iopub.status.idle": "2020-09-26T17:03:54.708729Z",
     "shell.execute_reply": "2020-09-26T17:03:54.708229Z"
    },
    "papermill": {
     "duration": 0.336335,
     "end_time": "2020-09-26T17:03:54.708846",
     "exception": false,
     "start_time": "2020-09-26T17:03:54.372511",
     "status": "completed"
    },
    "tags": []
   },
   "outputs": [
    {
     "data": {
      "text/plain": [
       "<matplotlib.axes._subplots.AxesSubplot at 0x7f8a333b5310>"
      ]
     },
     "execution_count": 23,
     "metadata": {},
     "output_type": "execute_result"
    },
    {
     "data": {
      "image/png": "[encoded data removed]",
      "text/plain": [
       "<Figure size 432x288 with 1 Axes>"
      ]
     },
     "metadata": {
      "needs_background": "light"
     },
     "output_type": "display_data"
    }
   ],
   "source": [
    "sns.barplot(x='Irritability',y='class',data=dataset)"
   ]
  },
  {
   "cell_type": "code",
   "execution_count": 24,
   "metadata": {
    "execution": {
     "iopub.execute_input": "2020-09-26T17:03:54.871928Z",
     "iopub.status.busy": "2020-09-26T17:03:54.871255Z",
     "iopub.status.idle": "2020-09-26T17:03:54.876258Z",
     "shell.execute_reply": "2020-09-26T17:03:54.876790Z"
    },
    "papermill": {
     "duration": 0.088345,
     "end_time": "2020-09-26T17:03:54.876940",
     "exception": false,
     "start_time": "2020-09-26T17:03:54.788595",
     "status": "completed"
    },
    "tags": []
   },
   "outputs": [],
   "source": [
    "X1 = dataset.iloc[:,0:-1]\n",
    "y1 = dataset.iloc[:,-1]"
   ]
  },
  {
   "cell_type": "code",
   "execution_count": 25,
   "metadata": {
    "execution": {
     "iopub.execute_input": "2020-09-26T17:03:55.049216Z",
     "iopub.status.busy": "2020-09-26T17:03:55.048628Z",
     "iopub.status.idle": "2020-09-26T17:03:55.051190Z",
     "shell.execute_reply": "2020-09-26T17:03:55.051718Z"
    },
    "papermill": {
     "duration": 0.092213,
     "end_time": "2020-09-26T17:03:55.051844",
     "exception": false,
     "start_time": "2020-09-26T17:03:54.959631",
     "status": "completed"
    },
    "tags": []
   },
   "outputs": [
    {
     "data": {
      "text/plain": [
       "Index(['Age', 'Gender', 'Polyuria', 'Polydipsia', 'sudden weight loss',\n",
       "       'weakness', 'Polyphagia', 'Genital thrush', 'visual blurring',\n",
       "       'Itching', 'Irritability', 'delayed healing', 'partial paresis',\n",
       "       'muscle stiffness', 'Alopecia', 'Obesity'],\n",
       "      dtype='object')"
      ]
     },
     "execution_count": 25,
     "metadata": {},
     "output_type": "execute_result"
    }
   ],
   "source": [
    "X1.columns"
   ]
  },
  {
   "cell_type": "markdown",
   "metadata": {
    "papermill": {
     "duration": 0.081551,
     "end_time": "2020-09-26T17:03:55.214990",
     "exception": false,
     "start_time": "2020-09-26T17:03:55.133439",
     "status": "completed"
    },
    "tags": []
   },
   "source": [
    "**Feature selection using selectkbest**"
   ]
  },
  {
   "cell_type": "code",
   "execution_count": 26,
   "metadata": {
    "execution": {
     "iopub.execute_input": "2020-09-26T17:03:55.379845Z",
     "iopub.status.busy": "2020-09-26T17:03:55.379278Z",
     "iopub.status.idle": "2020-09-26T17:03:55.552850Z",
     "shell.execute_reply": "2020-09-26T17:03:55.552258Z"
    },
    "papermill": {
     "duration": 0.257078,
     "end_time": "2020-09-26T17:03:55.553012",
     "exception": false,
     "start_time": "2020-09-26T17:03:55.295934",
     "status": "completed"
    },
    "tags": []
   },
   "outputs": [],
   "source": [
    "\n",
    "from sklearn.feature_selection import SelectKBest\n",
    "from sklearn.feature_selection import chi2\n",
    "best_feature = SelectKBest(score_func=chi2,k=10)\n",
    "fit = best_feature.fit(X1,y1)"
   ]
  },
  {
   "cell_type": "code",
   "execution_count": 27,
   "metadata": {
    "execution": {
     "iopub.execute_input": "2020-09-26T17:03:55.727600Z",
     "iopub.status.busy": "2020-09-26T17:03:55.727041Z",
     "iopub.status.idle": "2020-09-26T17:03:55.733798Z",
     "shell.execute_reply": "2020-09-26T17:03:55.733147Z"
    },
    "papermill": {
     "duration": 0.100096,
     "end_time": "2020-09-26T17:03:55.733920",
     "exception": false,
     "start_time": "2020-09-26T17:03:55.633824",
     "status": "completed"
    },
    "tags": []
   },
   "outputs": [],
   "source": [
    "dataset_scores = pd.DataFrame(fit.scores_)\n",
    "dataset_cols = pd.DataFrame(X1.columns)"
   ]
  },
  {
   "cell_type": "code",
   "execution_count": 28,
   "metadata": {
    "execution": {
     "iopub.execute_input": "2020-09-26T17:03:55.900899Z",
     "iopub.status.busy": "2020-09-26T17:03:55.900291Z",
     "iopub.status.idle": "2020-09-26T17:03:55.905179Z",
     "shell.execute_reply": "2020-09-26T17:03:55.905692Z"
    },
    "papermill": {
     "duration": 0.09022,
     "end_time": "2020-09-26T17:03:55.905825",
     "exception": false,
     "start_time": "2020-09-26T17:03:55.815605",
     "status": "completed"
    },
    "tags": []
   },
   "outputs": [],
   "source": [
    "featurescores = pd.concat([dataset_cols,dataset_scores],axis=1)\n",
    "featurescores.columns=['column','scores']"
   ]
  },
  {
   "cell_type": "markdown",
   "metadata": {
    "papermill": {
     "duration": 0.082559,
     "end_time": "2020-09-26T17:03:56.068170",
     "exception": false,
     "start_time": "2020-09-26T17:03:55.985611",
     "status": "completed"
    },
    "tags": []
   },
   "source": [
    "**These are the variables with their feature scores ,their importance/contribution towards class**"
   ]
  },
  {
   "cell_type": "code",
   "execution_count": 29,
   "metadata": {
    "execution": {
     "iopub.execute_input": "2020-09-26T17:03:56.232088Z",
     "iopub.status.busy": "2020-09-26T17:03:56.231554Z",
     "iopub.status.idle": "2020-09-26T17:03:56.242569Z",
     "shell.execute_reply": "2020-09-26T17:03:56.243032Z"
    },
    "papermill": {
     "duration": 0.093137,
     "end_time": "2020-09-26T17:03:56.243150",
     "exception": false,
     "start_time": "2020-09-26T17:03:56.150013",
     "status": "completed"
    },
    "tags": []
   },
   "outputs": [
    {
     "data": {
      "text/html": [
       "<div>\n",
       "<style scoped>\n",
       "    .dataframe tbody tr th:only-of-type {\n",
       "        vertical-align: middle;\n",
       "    }\n",
       "\n",
       "    .dataframe tbody tr th {\n",
       "        vertical-align: top;\n",
       "    }\n",
       "\n",
       "    .dataframe thead th {\n",
       "        text-align: right;\n",
       "    }\n",
       "</style>\n",
       "<table border=\"1\" class=\"dataframe\">\n",
       "  <thead>\n",
       "    <tr style=\"text-align: right;\">\n",
       "      <th></th>\n",
       "      <th>column</th>\n",
       "      <th>scores</th>\n",
       "    </tr>\n",
       "  </thead>\n",
       "  <tbody>\n",
       "    <tr>\n",
       "      <th>0</th>\n",
       "      <td>Age</td>\n",
       "      <td>18.845767</td>\n",
       "    </tr>\n",
       "    <tr>\n",
       "      <th>1</th>\n",
       "      <td>Gender</td>\n",
       "      <td>38.747637</td>\n",
       "    </tr>\n",
       "    <tr>\n",
       "      <th>2</th>\n",
       "      <td>Polyuria</td>\n",
       "      <td>116.184593</td>\n",
       "    </tr>\n",
       "    <tr>\n",
       "      <th>3</th>\n",
       "      <td>Polydipsia</td>\n",
       "      <td>120.785515</td>\n",
       "    </tr>\n",
       "    <tr>\n",
       "      <th>4</th>\n",
       "      <td>sudden weight loss</td>\n",
       "      <td>57.749309</td>\n",
       "    </tr>\n",
       "    <tr>\n",
       "      <th>5</th>\n",
       "      <td>weakness</td>\n",
       "      <td>12.724262</td>\n",
       "    </tr>\n",
       "    <tr>\n",
       "      <th>6</th>\n",
       "      <td>Polyphagia</td>\n",
       "      <td>33.198418</td>\n",
       "    </tr>\n",
       "    <tr>\n",
       "      <th>7</th>\n",
       "      <td>Genital thrush</td>\n",
       "      <td>4.914009</td>\n",
       "    </tr>\n",
       "    <tr>\n",
       "      <th>8</th>\n",
       "      <td>visual blurring</td>\n",
       "      <td>18.124571</td>\n",
       "    </tr>\n",
       "    <tr>\n",
       "      <th>9</th>\n",
       "      <td>Itching</td>\n",
       "      <td>0.047826</td>\n",
       "    </tr>\n",
       "    <tr>\n",
       "      <th>10</th>\n",
       "      <td>Irritability</td>\n",
       "      <td>35.334127</td>\n",
       "    </tr>\n",
       "    <tr>\n",
       "      <th>11</th>\n",
       "      <td>delayed healing</td>\n",
       "      <td>0.620188</td>\n",
       "    </tr>\n",
       "    <tr>\n",
       "      <th>12</th>\n",
       "      <td>partial paresis</td>\n",
       "      <td>55.314286</td>\n",
       "    </tr>\n",
       "    <tr>\n",
       "      <th>13</th>\n",
       "      <td>muscle stiffness</td>\n",
       "      <td>4.875000</td>\n",
       "    </tr>\n",
       "    <tr>\n",
       "      <th>14</th>\n",
       "      <td>Alopecia</td>\n",
       "      <td>24.402793</td>\n",
       "    </tr>\n",
       "    <tr>\n",
       "      <th>15</th>\n",
       "      <td>Obesity</td>\n",
       "      <td>2.250284</td>\n",
       "    </tr>\n",
       "  </tbody>\n",
       "</table>\n",
       "</div>"
      ],
      "text/plain": [
       "                column      scores\n",
       "0                  Age   18.845767\n",
       "1               Gender   38.747637\n",
       "2             Polyuria  116.184593\n",
       "3           Polydipsia  120.785515\n",
       "4   sudden weight loss   57.749309\n",
       "5             weakness   12.724262\n",
       "6           Polyphagia   33.198418\n",
       "7       Genital thrush    4.914009\n",
       "8      visual blurring   18.124571\n",
       "9              Itching    0.047826\n",
       "10        Irritability   35.334127\n",
       "11     delayed healing    0.620188\n",
       "12     partial paresis   55.314286\n",
       "13    muscle stiffness    4.875000\n",
       "14            Alopecia   24.402793\n",
       "15             Obesity    2.250284"
      ]
     },
     "execution_count": 29,
     "metadata": {},
     "output_type": "execute_result"
    }
   ],
   "source": [
    "featurescores"
   ]
  },
  {
   "cell_type": "markdown",
   "metadata": {
    "papermill": {
     "duration": 0.082975,
     "end_time": "2020-09-26T17:03:56.408271",
     "exception": false,
     "start_time": "2020-09-26T17:03:56.325296",
     "status": "completed"
    },
    "tags": []
   },
   "source": [
    "**Top 10 features**"
   ]
  },
  {
   "cell_type": "code",
   "execution_count": 30,
   "metadata": {
    "execution": {
     "iopub.execute_input": "2020-09-26T17:03:56.576353Z",
     "iopub.status.busy": "2020-09-26T17:03:56.575815Z",
     "iopub.status.idle": "2020-09-26T17:03:56.586621Z",
     "shell.execute_reply": "2020-09-26T17:03:56.587165Z"
    },
    "papermill": {
     "duration": 0.09594,
     "end_time": "2020-09-26T17:03:56.587283",
     "exception": false,
     "start_time": "2020-09-26T17:03:56.491343",
     "status": "completed"
    },
    "tags": []
   },
   "outputs": [
    {
     "name": "stdout",
     "output_type": "stream",
     "text": [
      "                column      scores\n",
      "3           Polydipsia  120.785515\n",
      "2             Polyuria  116.184593\n",
      "4   sudden weight loss   57.749309\n",
      "12     partial paresis   55.314286\n",
      "1               Gender   38.747637\n",
      "10        Irritability   35.334127\n",
      "6           Polyphagia   33.198418\n",
      "14            Alopecia   24.402793\n",
      "0                  Age   18.845767\n",
      "8      visual blurring   18.124571\n"
     ]
    }
   ],
   "source": [
    "print(featurescores.nlargest(10,'scores'))"
   ]
  },
  {
   "cell_type": "code",
   "execution_count": 31,
   "metadata": {
    "execution": {
     "iopub.execute_input": "2020-09-26T17:03:56.761671Z",
     "iopub.status.busy": "2020-09-26T17:03:56.761079Z",
     "iopub.status.idle": "2020-09-26T17:03:56.934075Z",
     "shell.execute_reply": "2020-09-26T17:03:56.934591Z"
    },
    "papermill": {
     "duration": 0.263656,
     "end_time": "2020-09-26T17:03:56.934751",
     "exception": false,
     "start_time": "2020-09-26T17:03:56.671095",
     "status": "completed"
    },
    "tags": []
   },
   "outputs": [
    {
     "data": {
      "text/plain": [
       "<matplotlib.axes._subplots.AxesSubplot at 0x7f8a3b5f4dd0>"
      ]
     },
     "execution_count": 31,
     "metadata": {},
     "output_type": "execute_result"
    },
    {
     "data": {
      "image/png": "[encoded data removed]",
      "text/plain": [
       "<Figure size 432x288 with 1 Axes>"
      ]
     },
     "metadata": {
      "needs_background": "light"
     },
     "output_type": "display_data"
    }
   ],
   "source": [
    "featureview=pd.Series(fit.scores_, index=X1.columns)\n",
    "featureview.plot(kind='barh')"
   ]
  },
  {
   "cell_type": "markdown",
   "metadata": {
    "papermill": {
     "duration": 0.086098,
     "end_time": "2020-09-26T17:03:57.106337",
     "exception": false,
     "start_time": "2020-09-26T17:03:57.020239",
     "status": "completed"
    },
    "tags": []
   },
   "source": [
    "**Checking the variance of each feature**,\n",
    "Features must have high variance with other features"
   ]
  },
  {
   "cell_type": "code",
   "execution_count": 32,
   "metadata": {
    "execution": {
     "iopub.execute_input": "2020-09-26T17:03:57.278034Z",
     "iopub.status.busy": "2020-09-26T17:03:57.277319Z",
     "iopub.status.idle": "2020-09-26T17:03:57.283748Z",
     "shell.execute_reply": "2020-09-26T17:03:57.284182Z"
    },
    "papermill": {
     "duration": 0.095187,
     "end_time": "2020-09-26T17:03:57.284321",
     "exception": false,
     "start_time": "2020-09-26T17:03:57.189134",
     "status": "completed"
    },
    "tags": []
   },
   "outputs": [],
   "source": [
    "from sklearn.feature_selection import VarianceThreshold\n",
    "feature_high_variance = VarianceThreshold(threshold=(0.5*(1-0.5)))\n",
    "falls=feature_high_variance.fit(X1)"
   ]
  },
  {
   "cell_type": "code",
   "execution_count": 33,
   "metadata": {
    "execution": {
     "iopub.execute_input": "2020-09-26T17:03:57.455648Z",
     "iopub.status.busy": "2020-09-26T17:03:57.455042Z",
     "iopub.status.idle": "2020-09-26T17:03:57.459208Z",
     "shell.execute_reply": "2020-09-26T17:03:57.459662Z"
    },
    "papermill": {
     "duration": 0.091416,
     "end_time": "2020-09-26T17:03:57.459800",
     "exception": false,
     "start_time": "2020-09-26T17:03:57.368384",
     "status": "completed"
    },
    "tags": []
   },
   "outputs": [],
   "source": [
    "dataset_scores1 = pd.DataFrame(falls.variances_)\n",
    "dat1 = pd.DataFrame(X1.columns)\n",
    "\n"
   ]
  },
  {
   "cell_type": "code",
   "execution_count": 34,
   "metadata": {
    "execution": {
     "iopub.execute_input": "2020-09-26T17:03:57.633123Z",
     "iopub.status.busy": "2020-09-26T17:03:57.632457Z",
     "iopub.status.idle": "2020-09-26T17:03:57.639160Z",
     "shell.execute_reply": "2020-09-26T17:03:57.638622Z"
    },
    "papermill": {
     "duration": 0.095539,
     "end_time": "2020-09-26T17:03:57.639282",
     "exception": false,
     "start_time": "2020-09-26T17:03:57.543743",
     "status": "completed"
    },
    "tags": []
   },
   "outputs": [],
   "source": [
    "high_variance = pd.concat([dataset_scores1,dat1],axis=1)\n",
    "high_variance.columns=['variance','cols']"
   ]
  },
  {
   "cell_type": "code",
   "execution_count": 35,
   "metadata": {
    "execution": {
     "iopub.execute_input": "2020-09-26T17:03:57.825359Z",
     "iopub.status.busy": "2020-09-26T17:03:57.824734Z",
     "iopub.status.idle": "2020-09-26T17:03:57.830353Z",
     "shell.execute_reply": "2020-09-26T17:03:57.829917Z"
    },
    "papermill": {
     "duration": 0.100519,
     "end_time": "2020-09-26T17:03:57.830459",
     "exception": false,
     "start_time": "2020-09-26T17:03:57.729940",
     "status": "completed"
    },
    "tags": []
   },
   "outputs": [
    {
     "data": {
      "text/html": [
       "<div>\n",
       "<style scoped>\n",
       "    .dataframe tbody tr th:only-of-type {\n",
       "        vertical-align: middle;\n",
       "    }\n",
       "\n",
       "    .dataframe tbody tr th {\n",
       "        vertical-align: top;\n",
       "    }\n",
       "\n",
       "    .dataframe thead th {\n",
       "        text-align: right;\n",
       "    }\n",
       "</style>\n",
       "<table border=\"1\" class=\"dataframe\">\n",
       "  <thead>\n",
       "    <tr style=\"text-align: right;\">\n",
       "      <th></th>\n",
       "      <th>variance</th>\n",
       "      <th>cols</th>\n",
       "    </tr>\n",
       "  </thead>\n",
       "  <tbody>\n",
       "    <tr>\n",
       "      <th>0</th>\n",
       "      <td>147.374168</td>\n",
       "      <td>Age</td>\n",
       "    </tr>\n",
       "    <tr>\n",
       "      <th>1</th>\n",
       "      <td>0.232899</td>\n",
       "      <td>Gender</td>\n",
       "    </tr>\n",
       "    <tr>\n",
       "      <th>2</th>\n",
       "      <td>0.249985</td>\n",
       "      <td>Polyuria</td>\n",
       "    </tr>\n",
       "    <tr>\n",
       "      <th>3</th>\n",
       "      <td>0.247304</td>\n",
       "      <td>Polydipsia</td>\n",
       "    </tr>\n",
       "    <tr>\n",
       "      <th>4</th>\n",
       "      <td>0.243162</td>\n",
       "      <td>sudden weight loss</td>\n",
       "    </tr>\n",
       "    <tr>\n",
       "      <th>5</th>\n",
       "      <td>0.242511</td>\n",
       "      <td>weakness</td>\n",
       "    </tr>\n",
       "    <tr>\n",
       "      <th>6</th>\n",
       "      <td>0.248044</td>\n",
       "      <td>Polyphagia</td>\n",
       "    </tr>\n",
       "    <tr>\n",
       "      <th>8</th>\n",
       "      <td>0.247304</td>\n",
       "      <td>visual blurring</td>\n",
       "    </tr>\n",
       "    <tr>\n",
       "      <th>9</th>\n",
       "      <td>0.249819</td>\n",
       "      <td>Itching</td>\n",
       "    </tr>\n",
       "    <tr>\n",
       "      <th>11</th>\n",
       "      <td>0.248369</td>\n",
       "      <td>delayed healing</td>\n",
       "    </tr>\n",
       "    <tr>\n",
       "      <th>12</th>\n",
       "      <td>0.245207</td>\n",
       "      <td>partial paresis</td>\n",
       "    </tr>\n",
       "    <tr>\n",
       "      <th>13</th>\n",
       "      <td>0.234375</td>\n",
       "      <td>muscle stiffness</td>\n",
       "    </tr>\n",
       "    <tr>\n",
       "      <th>14</th>\n",
       "      <td>0.225736</td>\n",
       "      <td>Alopecia</td>\n",
       "    </tr>\n",
       "  </tbody>\n",
       "</table>\n",
       "</div>"
      ],
      "text/plain": [
       "      variance                cols\n",
       "0   147.374168                 Age\n",
       "1     0.232899              Gender\n",
       "2     0.249985            Polyuria\n",
       "3     0.247304          Polydipsia\n",
       "4     0.243162  sudden weight loss\n",
       "5     0.242511            weakness\n",
       "6     0.248044          Polyphagia\n",
       "8     0.247304     visual blurring\n",
       "9     0.249819             Itching\n",
       "11    0.248369     delayed healing\n",
       "12    0.245207     partial paresis\n",
       "13    0.234375    muscle stiffness\n",
       "14    0.225736            Alopecia"
      ]
     },
     "execution_count": 35,
     "metadata": {},
     "output_type": "execute_result"
    }
   ],
   "source": [
    "high_variance[high_variance['variance']>0.2]"
   ]
  },
  {
   "cell_type": "code",
   "execution_count": 36,
   "metadata": {
    "execution": {
     "iopub.execute_input": "2020-09-26T17:03:58.004179Z",
     "iopub.status.busy": "2020-09-26T17:03:58.003354Z",
     "iopub.status.idle": "2020-09-26T17:03:58.006076Z",
     "shell.execute_reply": "2020-09-26T17:03:58.005478Z"
    },
    "papermill": {
     "duration": 0.093128,
     "end_time": "2020-09-26T17:03:58.006179",
     "exception": false,
     "start_time": "2020-09-26T17:03:57.913051",
     "status": "completed"
    },
    "tags": []
   },
   "outputs": [],
   "source": [
    "X = dataset[['Polydipsia','sudden weight loss','partial paresis','Irritability','Polyphagia','Age','visual blurring']]\n",
    "y = dataset['class']"
   ]
  },
  {
   "cell_type": "markdown",
   "metadata": {
    "papermill": {
     "duration": 0.084065,
     "end_time": "2020-09-26T17:03:58.178499",
     "exception": false,
     "start_time": "2020-09-26T17:03:58.094434",
     "status": "completed"
    },
    "tags": []
   },
   "source": [
    "**Splitting the dataset into training and testing sets**"
   ]
  },
  {
   "cell_type": "code",
   "execution_count": 37,
   "metadata": {
    "execution": {
     "iopub.execute_input": "2020-09-26T17:03:58.355405Z",
     "iopub.status.busy": "2020-09-26T17:03:58.354758Z",
     "iopub.status.idle": "2020-09-26T17:03:58.357510Z",
     "shell.execute_reply": "2020-09-26T17:03:58.357034Z"
    },
    "papermill": {
     "duration": 0.094876,
     "end_time": "2020-09-26T17:03:58.357611",
     "exception": false,
     "start_time": "2020-09-26T17:03:58.262735",
     "status": "completed"
    },
    "tags": []
   },
   "outputs": [],
   "source": [
    "\n",
    "from sklearn.model_selection import train_test_split\n",
    "X_train,X_test,y_train,y_test = train_test_split(X,y,test_size = 0.2,random_state=0)"
   ]
  },
  {
   "cell_type": "markdown",
   "metadata": {
    "papermill": {
     "duration": 0.085512,
     "end_time": "2020-09-26T17:03:58.528768",
     "exception": false,
     "start_time": "2020-09-26T17:03:58.443256",
     "status": "completed"
    },
    "tags": []
   },
   "source": [
    "**Standardization of independant variables**"
   ]
  },
  {
   "cell_type": "code",
   "execution_count": 38,
   "metadata": {
    "execution": {
     "iopub.execute_input": "2020-09-26T17:03:58.716229Z",
     "iopub.status.busy": "2020-09-26T17:03:58.715632Z",
     "iopub.status.idle": "2020-09-26T17:03:58.724565Z",
     "shell.execute_reply": "2020-09-26T17:03:58.725165Z"
    },
    "papermill": {
     "duration": 0.104309,
     "end_time": "2020-09-26T17:03:58.725303",
     "exception": false,
     "start_time": "2020-09-26T17:03:58.620994",
     "status": "completed"
    },
    "tags": []
   },
   "outputs": [],
   "source": [
    "from sklearn.preprocessing import StandardScaler\n",
    "ss = StandardScaler()\n",
    "X_train = ss.fit_transform(X_train)\n",
    "X_test = ss.transform(X_test)"
   ]
  },
  {
   "cell_type": "markdown",
   "metadata": {
    "papermill": {
     "duration": 0.088203,
     "end_time": "2020-09-26T17:03:58.918082",
     "exception": false,
     "start_time": "2020-09-26T17:03:58.829879",
     "status": "completed"
    },
    "tags": []
   },
   "source": [
    "# Let's start building models for prediction"
   ]
  },
  {
   "cell_type": "markdown",
   "metadata": {
    "papermill": {
     "duration": 0.087616,
     "end_time": "2020-09-26T17:03:59.090766",
     "exception": false,
     "start_time": "2020-09-26T17:03:59.003150",
     "status": "completed"
    },
    "tags": []
   },
   "source": [
    "# Logistic Regression"
   ]
  },
  {
   "cell_type": "code",
   "execution_count": 39,
   "metadata": {
    "execution": {
     "iopub.execute_input": "2020-09-26T17:03:59.267898Z",
     "iopub.status.busy": "2020-09-26T17:03:59.267294Z",
     "iopub.status.idle": "2020-09-26T17:03:59.284915Z",
     "shell.execute_reply": "2020-09-26T17:03:59.285502Z"
    },
    "papermill": {
     "duration": 0.109014,
     "end_time": "2020-09-26T17:03:59.285688",
     "exception": false,
     "start_time": "2020-09-26T17:03:59.176674",
     "status": "completed"
    },
    "tags": []
   },
   "outputs": [
    {
     "data": {
      "text/plain": [
       "LogisticRegression()"
      ]
     },
     "execution_count": 39,
     "metadata": {},
     "output_type": "execute_result"
    }
   ],
   "source": [
    "\n",
    "from sklearn.linear_model import LogisticRegression\n",
    "lg=LogisticRegression()\n",
    "lg.fit(X_train,y_train)"
   ]
  },
  {
   "cell_type": "markdown",
   "metadata": {
    "papermill": {
     "duration": 0.085325,
     "end_time": "2020-09-26T17:03:59.459793",
     "exception": false,
     "start_time": "2020-09-26T17:03:59.374468",
     "status": "completed"
    },
    "tags": []
   },
   "source": [
    "**Cross validation test for training data**"
   ]
  },
  {
   "cell_type": "code",
   "execution_count": 40,
   "metadata": {
    "execution": {
     "iopub.execute_input": "2020-09-26T17:03:59.634946Z",
     "iopub.status.busy": "2020-09-26T17:03:59.634280Z",
     "iopub.status.idle": "2020-09-26T17:03:59.693517Z",
     "shell.execute_reply": "2020-09-26T17:03:59.694031Z"
    },
    "papermill": {
     "duration": 0.148607,
     "end_time": "2020-09-26T17:03:59.694197",
     "exception": false,
     "start_time": "2020-09-26T17:03:59.545590",
     "status": "completed"
    },
    "tags": []
   },
   "outputs": [
    {
     "name": "stdout",
     "output_type": "stream",
     "text": [
      "accuracy is 84.85 %\n",
      "std is 4.95 %\n"
     ]
    }
   ],
   "source": [
    "from sklearn.model_selection import cross_val_score\n",
    "accuracies = cross_val_score(estimator=lg, X=X_train ,y=y_train,cv=10)\n",
    "print(\"accuracy is {:.2f} %\".format(accuracies.mean()*100))\n",
    "print(\"std is {:.2f} %\".format(accuracies.std()*100))\n"
   ]
  },
  {
   "cell_type": "markdown",
   "metadata": {
    "papermill": {
     "duration": 0.086734,
     "end_time": "2020-09-26T17:03:59.872919",
     "exception": false,
     "start_time": "2020-09-26T17:03:59.786185",
     "status": "completed"
    },
    "tags": []
   },
   "source": [
    "**Prediction**"
   ]
  },
  {
   "cell_type": "code",
   "execution_count": 41,
   "metadata": {
    "execution": {
     "iopub.execute_input": "2020-09-26T17:04:00.056169Z",
     "iopub.status.busy": "2020-09-26T17:04:00.055505Z",
     "iopub.status.idle": "2020-09-26T17:04:00.058652Z",
     "shell.execute_reply": "2020-09-26T17:04:00.058194Z"
    },
    "papermill": {
     "duration": 0.097835,
     "end_time": "2020-09-26T17:04:00.058769",
     "exception": false,
     "start_time": "2020-09-26T17:03:59.960934",
     "status": "completed"
    },
    "tags": []
   },
   "outputs": [],
   "source": [
    "pre=lg.predict(X_test)"
   ]
  },
  {
   "cell_type": "markdown",
   "metadata": {
    "papermill": {
     "duration": 0.086497,
     "end_time": "2020-09-26T17:04:00.231542",
     "exception": false,
     "start_time": "2020-09-26T17:04:00.145045",
     "status": "completed"
    },
    "tags": []
   },
   "source": [
    "**Take a look into Accuracy and Confusion matrix**"
   ]
  },
  {
   "cell_type": "code",
   "execution_count": 42,
   "metadata": {
    "execution": {
     "iopub.execute_input": "2020-09-26T17:04:00.409445Z",
     "iopub.status.busy": "2020-09-26T17:04:00.408449Z",
     "iopub.status.idle": "2020-09-26T17:04:00.414367Z",
     "shell.execute_reply": "2020-09-26T17:04:00.413849Z"
    },
    "papermill": {
     "duration": 0.095412,
     "end_time": "2020-09-26T17:04:00.414477",
     "exception": false,
     "start_time": "2020-09-26T17:04:00.319065",
     "status": "completed"
    },
    "tags": []
   },
   "outputs": [
    {
     "name": "stdout",
     "output_type": "stream",
     "text": [
      "0.8942307692307693\n",
      "[[34  5]\n",
      " [ 6 59]]\n"
     ]
    }
   ],
   "source": [
    "logistic_regression=accuracy_score(pre,y_test)\n",
    "print(accuracy_score(pre,y_test))\n",
    "print(confusion_matrix(pre,y_test))\n",
    "\n",
    "\n"
   ]
  },
  {
   "cell_type": "markdown",
   "metadata": {
    "papermill": {
     "duration": 0.084744,
     "end_time": "2020-09-26T17:04:00.586478",
     "exception": false,
     "start_time": "2020-09-26T17:04:00.501734",
     "status": "completed"
    },
    "tags": []
   },
   "source": [
    "**Classification Report**"
   ]
  },
  {
   "cell_type": "code",
   "execution_count": 43,
   "metadata": {
    "execution": {
     "iopub.execute_input": "2020-09-26T17:04:00.761532Z",
     "iopub.status.busy": "2020-09-26T17:04:00.760465Z",
     "iopub.status.idle": "2020-09-26T17:04:00.770315Z",
     "shell.execute_reply": "2020-09-26T17:04:00.770780Z"
    },
    "papermill": {
     "duration": 0.1,
     "end_time": "2020-09-26T17:04:00.770916",
     "exception": false,
     "start_time": "2020-09-26T17:04:00.670916",
     "status": "completed"
    },
    "tags": []
   },
   "outputs": [
    {
     "name": "stdout",
     "output_type": "stream",
     "text": [
      "              precision    recall  f1-score   support\n",
      "\n",
      "           0       0.85      0.87      0.86        39\n",
      "           1       0.92      0.91      0.91        65\n",
      "\n",
      "    accuracy                           0.89       104\n",
      "   macro avg       0.89      0.89      0.89       104\n",
      "weighted avg       0.89      0.89      0.89       104\n",
      "\n"
     ]
    }
   ],
   "source": [
    "from sklearn.metrics import classification_report\n",
    "print(classification_report(pre,y_test))"
   ]
  },
  {
   "cell_type": "markdown",
   "metadata": {
    "papermill": {
     "duration": 0.085061,
     "end_time": "2020-09-26T17:04:00.941991",
     "exception": false,
     "start_time": "2020-09-26T17:04:00.856930",
     "status": "completed"
    },
    "tags": []
   },
   "source": [
    "# SVM"
   ]
  },
  {
   "cell_type": "code",
   "execution_count": 44,
   "metadata": {
    "execution": {
     "iopub.execute_input": "2020-09-26T17:04:01.125042Z",
     "iopub.status.busy": "2020-09-26T17:04:01.124096Z",
     "iopub.status.idle": "2020-09-26T17:04:01.134092Z",
     "shell.execute_reply": "2020-09-26T17:04:01.134648Z"
    },
    "papermill": {
     "duration": 0.103706,
     "end_time": "2020-09-26T17:04:01.134798",
     "exception": false,
     "start_time": "2020-09-26T17:04:01.031092",
     "status": "completed"
    },
    "tags": []
   },
   "outputs": [
    {
     "data": {
      "text/plain": [
       "SVC(kernel='linear', random_state=0)"
      ]
     },
     "execution_count": 44,
     "metadata": {},
     "output_type": "execute_result"
    }
   ],
   "source": [
    "from sklearn.svm import SVC\n",
    "sv=SVC(kernel='linear',random_state=0)\n",
    "sv.fit(X_train,y_train)"
   ]
  },
  {
   "cell_type": "code",
   "execution_count": 45,
   "metadata": {
    "execution": {
     "iopub.execute_input": "2020-09-26T17:04:01.312773Z",
     "iopub.status.busy": "2020-09-26T17:04:01.311899Z",
     "iopub.status.idle": "2020-09-26T17:04:01.361885Z",
     "shell.execute_reply": "2020-09-26T17:04:01.362370Z"
    },
    "papermill": {
     "duration": 0.141254,
     "end_time": "2020-09-26T17:04:01.362493",
     "exception": false,
     "start_time": "2020-09-26T17:04:01.221239",
     "status": "completed"
    },
    "tags": []
   },
   "outputs": [
    {
     "name": "stdout",
     "output_type": "stream",
     "text": [
      "accuracy is 83.18 %\n",
      "std is 4.94 %\n"
     ]
    }
   ],
   "source": [
    "from sklearn.model_selection import cross_val_score\n",
    "accuracies = cross_val_score(estimator=sv, X=X_train ,y=y_train,cv=10)\n",
    "print(\"accuracy is {:.2f} %\".format(accuracies.mean()*100))\n",
    "print(\"std is {:.2f} %\".format(accuracies.std()*100))\n"
   ]
  },
  {
   "cell_type": "code",
   "execution_count": 46,
   "metadata": {
    "execution": {
     "iopub.execute_input": "2020-09-26T17:04:01.543795Z",
     "iopub.status.busy": "2020-09-26T17:04:01.542932Z",
     "iopub.status.idle": "2020-09-26T17:04:01.547170Z",
     "shell.execute_reply": "2020-09-26T17:04:01.547686Z"
    },
    "papermill": {
     "duration": 0.096949,
     "end_time": "2020-09-26T17:04:01.547833",
     "exception": false,
     "start_time": "2020-09-26T17:04:01.450884",
     "status": "completed"
    },
    "tags": []
   },
   "outputs": [],
   "source": [
    "pre1=sv.predict(X_test)"
   ]
  },
  {
   "cell_type": "code",
   "execution_count": 47,
   "metadata": {
    "execution": {
     "iopub.execute_input": "2020-09-26T17:04:01.726043Z",
     "iopub.status.busy": "2020-09-26T17:04:01.725093Z",
     "iopub.status.idle": "2020-09-26T17:04:01.732086Z",
     "shell.execute_reply": "2020-09-26T17:04:01.732599Z"
    },
    "papermill": {
     "duration": 0.096351,
     "end_time": "2020-09-26T17:04:01.732731",
     "exception": false,
     "start_time": "2020-09-26T17:04:01.636380",
     "status": "completed"
    },
    "tags": []
   },
   "outputs": [
    {
     "name": "stdout",
     "output_type": "stream",
     "text": [
      "0.9038461538461539\n",
      "[[34  4]\n",
      " [ 6 60]]\n"
     ]
    }
   ],
   "source": [
    "svm_linear=accuracy_score(pre1,y_test)\n",
    "print(accuracy_score(pre1,y_test))\n",
    "print(confusion_matrix(pre1,y_test))"
   ]
  },
  {
   "cell_type": "code",
   "execution_count": 48,
   "metadata": {
    "execution": {
     "iopub.execute_input": "2020-09-26T17:04:01.912446Z",
     "iopub.status.busy": "2020-09-26T17:04:01.911591Z",
     "iopub.status.idle": "2020-09-26T17:04:01.920731Z",
     "shell.execute_reply": "2020-09-26T17:04:01.921293Z"
    },
    "papermill": {
     "duration": 0.100861,
     "end_time": "2020-09-26T17:04:01.921409",
     "exception": false,
     "start_time": "2020-09-26T17:04:01.820548",
     "status": "completed"
    },
    "tags": []
   },
   "outputs": [
    {
     "name": "stdout",
     "output_type": "stream",
     "text": [
      "              precision    recall  f1-score   support\n",
      "\n",
      "           0       0.85      0.89      0.87        38\n",
      "           1       0.94      0.91      0.92        66\n",
      "\n",
      "    accuracy                           0.90       104\n",
      "   macro avg       0.89      0.90      0.90       104\n",
      "weighted avg       0.91      0.90      0.90       104\n",
      "\n"
     ]
    }
   ],
   "source": [
    "from sklearn.metrics import classification_report\n",
    "print(classification_report(pre1,y_test))"
   ]
  },
  {
   "cell_type": "code",
   "execution_count": 49,
   "metadata": {
    "execution": {
     "iopub.execute_input": "2020-09-26T17:04:02.106979Z",
     "iopub.status.busy": "2020-09-26T17:04:02.105609Z",
     "iopub.status.idle": "2020-09-26T17:04:02.117460Z",
     "shell.execute_reply": "2020-09-26T17:04:02.117954Z"
    },
    "papermill": {
     "duration": 0.107769,
     "end_time": "2020-09-26T17:04:02.118080",
     "exception": false,
     "start_time": "2020-09-26T17:04:02.010311",
     "status": "completed"
    },
    "tags": []
   },
   "outputs": [
    {
     "data": {
      "text/plain": [
       "SVC(random_state=0)"
      ]
     },
     "execution_count": 49,
     "metadata": {},
     "output_type": "execute_result"
    }
   ],
   "source": [
    "\n",
    "from sklearn.svm import SVC\n",
    "svrf=SVC(kernel='rbf',random_state=0)\n",
    "svrf.fit(X_train,y_train)"
   ]
  },
  {
   "cell_type": "code",
   "execution_count": 50,
   "metadata": {
    "execution": {
     "iopub.execute_input": "2020-09-26T17:04:02.303606Z",
     "iopub.status.busy": "2020-09-26T17:04:02.302539Z",
     "iopub.status.idle": "2020-09-26T17:04:02.356221Z",
     "shell.execute_reply": "2020-09-26T17:04:02.356794Z"
    },
    "papermill": {
     "duration": 0.1495,
     "end_time": "2020-09-26T17:04:02.356937",
     "exception": false,
     "start_time": "2020-09-26T17:04:02.207437",
     "status": "completed"
    },
    "tags": []
   },
   "outputs": [
    {
     "name": "stdout",
     "output_type": "stream",
     "text": [
      "accuracy is 88.47 %\n",
      "std is 3.69 %\n"
     ]
    }
   ],
   "source": [
    "from sklearn.model_selection import cross_val_score\n",
    "accuracies = cross_val_score(estimator=svrf, X=X_train ,y=y_train,cv=10)\n",
    "print(\"accuracy is {:.2f} %\".format(accuracies.mean()*100))\n",
    "print(\"std is {:.2f} %\".format(accuracies.std()*100))\n"
   ]
  },
  {
   "cell_type": "code",
   "execution_count": 51,
   "metadata": {
    "execution": {
     "iopub.execute_input": "2020-09-26T17:04:02.539498Z",
     "iopub.status.busy": "2020-09-26T17:04:02.538530Z",
     "iopub.status.idle": "2020-09-26T17:04:02.544071Z",
     "shell.execute_reply": "2020-09-26T17:04:02.543462Z"
    },
    "papermill": {
     "duration": 0.099282,
     "end_time": "2020-09-26T17:04:02.544166",
     "exception": false,
     "start_time": "2020-09-26T17:04:02.444884",
     "status": "completed"
    },
    "tags": []
   },
   "outputs": [],
   "source": [
    "pre2=svrf.predict(X_test)"
   ]
  },
  {
   "cell_type": "code",
   "execution_count": 52,
   "metadata": {
    "execution": {
     "iopub.execute_input": "2020-09-26T17:04:02.727636Z",
     "iopub.status.busy": "2020-09-26T17:04:02.726664Z",
     "iopub.status.idle": "2020-09-26T17:04:02.734097Z",
     "shell.execute_reply": "2020-09-26T17:04:02.734587Z"
    },
    "papermill": {
     "duration": 0.10179,
     "end_time": "2020-09-26T17:04:02.734783",
     "exception": false,
     "start_time": "2020-09-26T17:04:02.632993",
     "status": "completed"
    },
    "tags": []
   },
   "outputs": [
    {
     "name": "stdout",
     "output_type": "stream",
     "text": [
      "0.9807692307692307\n",
      "[[39  1]\n",
      " [ 1 63]]\n"
     ]
    }
   ],
   "source": [
    "svm_rbf=accuracy_score(pre2,y_test)\n",
    "print(accuracy_score(pre2,y_test))\n",
    "print(confusion_matrix(pre2,y_test))"
   ]
  },
  {
   "cell_type": "code",
   "execution_count": 53,
   "metadata": {
    "execution": {
     "iopub.execute_input": "2020-09-26T17:04:02.922651Z",
     "iopub.status.busy": "2020-09-26T17:04:02.922075Z",
     "iopub.status.idle": "2020-09-26T17:04:02.929694Z",
     "shell.execute_reply": "2020-09-26T17:04:02.930139Z"
    },
    "papermill": {
     "duration": 0.104146,
     "end_time": "2020-09-26T17:04:02.930269",
     "exception": false,
     "start_time": "2020-09-26T17:04:02.826123",
     "status": "completed"
    },
    "tags": []
   },
   "outputs": [
    {
     "name": "stdout",
     "output_type": "stream",
     "text": [
      "              precision    recall  f1-score   support\n",
      "\n",
      "           0       0.97      0.97      0.97        40\n",
      "           1       0.98      0.98      0.98        64\n",
      "\n",
      "    accuracy                           0.98       104\n",
      "   macro avg       0.98      0.98      0.98       104\n",
      "weighted avg       0.98      0.98      0.98       104\n",
      "\n"
     ]
    }
   ],
   "source": [
    "from sklearn.metrics import classification_report\n",
    "print(classification_report(pre2,y_test))"
   ]
  },
  {
   "cell_type": "markdown",
   "metadata": {
    "papermill": {
     "duration": 0.093018,
     "end_time": "2020-09-26T17:04:03.116550",
     "exception": false,
     "start_time": "2020-09-26T17:04:03.023532",
     "status": "completed"
    },
    "tags": []
   },
   "source": [
    "# KNN"
   ]
  },
  {
   "cell_type": "code",
   "execution_count": 54,
   "metadata": {
    "execution": {
     "iopub.execute_input": "2020-09-26T17:04:03.300303Z",
     "iopub.status.busy": "2020-09-26T17:04:03.299711Z",
     "iopub.status.idle": "2020-09-26T17:04:03.357987Z",
     "shell.execute_reply": "2020-09-26T17:04:03.357418Z"
    },
    "papermill": {
     "duration": 0.151594,
     "end_time": "2020-09-26T17:04:03.358087",
     "exception": false,
     "start_time": "2020-09-26T17:04:03.206493",
     "status": "completed"
    },
    "tags": []
   },
   "outputs": [
    {
     "name": "stdout",
     "output_type": "stream",
     "text": [
      "[98.08, 98.08, 98.08, 98.08, 97.12]\n"
     ]
    }
   ],
   "source": [
    "from sklearn.neighbors import KNeighborsClassifier\n",
    "score=[]\n",
    "\n",
    "for i in range(1,10):\n",
    "    \n",
    "    \n",
    "    knn=KNeighborsClassifier(n_neighbors=i,metric='minkowski',p=2)\n",
    "    knn.fit(X_train,y_train)\n",
    "    pre3=knn.predict(X_test)\n",
    "    ans=accuracy_score(pre3,y_test)\n",
    "    score.append(round(100*ans,2))\n",
    "print(sorted(score,reverse=True)[:5])\n",
    "knn=sorted(score,reverse=True)[:1]\n"
   ]
  },
  {
   "cell_type": "markdown",
   "metadata": {
    "papermill": {
     "duration": 0.089939,
     "end_time": "2020-09-26T17:04:03.536889",
     "exception": false,
     "start_time": "2020-09-26T17:04:03.446950",
     "status": "completed"
    },
    "tags": []
   },
   "source": [
    "# Naive bayes-Gaussian NB"
   ]
  },
  {
   "cell_type": "code",
   "execution_count": 55,
   "metadata": {
    "execution": {
     "iopub.execute_input": "2020-09-26T17:04:03.727073Z",
     "iopub.status.busy": "2020-09-26T17:04:03.726510Z",
     "iopub.status.idle": "2020-09-26T17:04:03.733031Z",
     "shell.execute_reply": "2020-09-26T17:04:03.733513Z"
    },
    "papermill": {
     "duration": 0.102826,
     "end_time": "2020-09-26T17:04:03.733625",
     "exception": false,
     "start_time": "2020-09-26T17:04:03.630799",
     "status": "completed"
    },
    "tags": []
   },
   "outputs": [
    {
     "data": {
      "text/plain": [
       "GaussianNB()"
      ]
     },
     "execution_count": 55,
     "metadata": {},
     "output_type": "execute_result"
    }
   ],
   "source": [
    "from sklearn.naive_bayes import GaussianNB\n",
    "gb=GaussianNB()\n",
    "gb.fit(X_train,y_train)"
   ]
  },
  {
   "cell_type": "code",
   "execution_count": 56,
   "metadata": {
    "execution": {
     "iopub.execute_input": "2020-09-26T17:04:03.920459Z",
     "iopub.status.busy": "2020-09-26T17:04:03.919944Z",
     "iopub.status.idle": "2020-09-26T17:04:03.943394Z",
     "shell.execute_reply": "2020-09-26T17:04:03.943868Z"
    },
    "papermill": {
     "duration": 0.118134,
     "end_time": "2020-09-26T17:04:03.943997",
     "exception": false,
     "start_time": "2020-09-26T17:04:03.825863",
     "status": "completed"
    },
    "tags": []
   },
   "outputs": [
    {
     "name": "stdout",
     "output_type": "stream",
     "text": [
      "accuracy is 82.94 %\n",
      "std is 8.03 %\n"
     ]
    }
   ],
   "source": [
    "from sklearn.model_selection import cross_val_score\n",
    "accuracies = cross_val_score(estimator=gb, X=X_train ,y=y_train,cv=10)\n",
    "print(\"accuracy is {:.2f} %\".format(accuracies.mean()*100))\n",
    "print(\"std is {:.2f} %\".format(accuracies.std()*100))"
   ]
  },
  {
   "cell_type": "code",
   "execution_count": 57,
   "metadata": {
    "execution": {
     "iopub.execute_input": "2020-09-26T17:04:04.156405Z",
     "iopub.status.busy": "2020-09-26T17:04:04.155439Z",
     "iopub.status.idle": "2020-09-26T17:04:04.161031Z",
     "shell.execute_reply": "2020-09-26T17:04:04.161776Z"
    },
    "papermill": {
     "duration": 0.124471,
     "end_time": "2020-09-26T17:04:04.161948",
     "exception": false,
     "start_time": "2020-09-26T17:04:04.037477",
     "status": "completed"
    },
    "tags": []
   },
   "outputs": [],
   "source": [
    "pre4=gb.predict(X_test)"
   ]
  },
  {
   "cell_type": "code",
   "execution_count": 58,
   "metadata": {
    "execution": {
     "iopub.execute_input": "2020-09-26T17:04:04.392488Z",
     "iopub.status.busy": "2020-09-26T17:04:04.391950Z",
     "iopub.status.idle": "2020-09-26T17:04:04.398893Z",
     "shell.execute_reply": "2020-09-26T17:04:04.399374Z"
    },
    "papermill": {
     "duration": 0.101985,
     "end_time": "2020-09-26T17:04:04.399491",
     "exception": false,
     "start_time": "2020-09-26T17:04:04.297506",
     "status": "completed"
    },
    "tags": []
   },
   "outputs": [
    {
     "name": "stdout",
     "output_type": "stream",
     "text": [
      "0.8557692307692307\n",
      "[[32  7]\n",
      " [ 8 57]]\n"
     ]
    }
   ],
   "source": [
    "Naive_bayes_Gaussian_nb=accuracy_score(pre4,y_test)\n",
    "print(accuracy_score(pre4,y_test))\n",
    "print(confusion_matrix(pre4,y_test))"
   ]
  },
  {
   "cell_type": "code",
   "execution_count": 59,
   "metadata": {
    "execution": {
     "iopub.execute_input": "2020-09-26T17:04:04.585608Z",
     "iopub.status.busy": "2020-09-26T17:04:04.585027Z",
     "iopub.status.idle": "2020-09-26T17:04:04.594042Z",
     "shell.execute_reply": "2020-09-26T17:04:04.594439Z"
    },
    "papermill": {
     "duration": 0.102501,
     "end_time": "2020-09-26T17:04:04.594560",
     "exception": false,
     "start_time": "2020-09-26T17:04:04.492059",
     "status": "completed"
    },
    "tags": []
   },
   "outputs": [
    {
     "name": "stdout",
     "output_type": "stream",
     "text": [
      "              precision    recall  f1-score   support\n",
      "\n",
      "           0       0.80      0.82      0.81        39\n",
      "           1       0.89      0.88      0.88        65\n",
      "\n",
      "    accuracy                           0.86       104\n",
      "   macro avg       0.85      0.85      0.85       104\n",
      "weighted avg       0.86      0.86      0.86       104\n",
      "\n"
     ]
    }
   ],
   "source": [
    "from sklearn.metrics import classification_report\n",
    "print(classification_report(pre4,y_test))"
   ]
  },
  {
   "cell_type": "markdown",
   "metadata": {
    "papermill": {
     "duration": 0.091605,
     "end_time": "2020-09-26T17:04:04.777912",
     "exception": false,
     "start_time": "2020-09-26T17:04:04.686307",
     "status": "completed"
    },
    "tags": []
   },
   "source": [
    "# Decision Tress Classifier"
   ]
  },
  {
   "cell_type": "code",
   "execution_count": 60,
   "metadata": {
    "execution": {
     "iopub.execute_input": "2020-09-26T17:04:04.964074Z",
     "iopub.status.busy": "2020-09-26T17:04:04.963540Z",
     "iopub.status.idle": "2020-09-26T17:04:04.994325Z",
     "shell.execute_reply": "2020-09-26T17:04:04.994847Z"
    },
    "papermill": {
     "duration": 0.125758,
     "end_time": "2020-09-26T17:04:04.994983",
     "exception": false,
     "start_time": "2020-09-26T17:04:04.869225",
     "status": "completed"
    },
    "tags": []
   },
   "outputs": [
    {
     "data": {
      "text/plain": [
       "DecisionTreeClassifier()"
      ]
     },
     "execution_count": 60,
     "metadata": {},
     "output_type": "execute_result"
    }
   ],
   "source": [
    "from sklearn.tree import DecisionTreeClassifier\n",
    "dc=DecisionTreeClassifier(criterion='gini')\n",
    "dc.fit(X_train,y_train)"
   ]
  },
  {
   "cell_type": "code",
   "execution_count": 61,
   "metadata": {
    "execution": {
     "iopub.execute_input": "2020-09-26T17:04:05.187885Z",
     "iopub.status.busy": "2020-09-26T17:04:05.187307Z",
     "iopub.status.idle": "2020-09-26T17:04:05.213479Z",
     "shell.execute_reply": "2020-09-26T17:04:05.213013Z"
    },
    "papermill": {
     "duration": 0.121809,
     "end_time": "2020-09-26T17:04:05.213588",
     "exception": false,
     "start_time": "2020-09-26T17:04:05.091779",
     "status": "completed"
    },
    "tags": []
   },
   "outputs": [
    {
     "name": "stdout",
     "output_type": "stream",
     "text": [
      "accuracy is 91.84 %\n",
      "std is 3.74 %\n"
     ]
    }
   ],
   "source": [
    "from sklearn.model_selection import cross_val_score\n",
    "accuracies = cross_val_score(estimator=dc, X=X_train ,y=y_train,cv=10)\n",
    "print(\"accuracy is {:.2f} %\".format(accuracies.mean()*100))\n",
    "print(\"std is {:.2f} %\".format(accuracies.std()*100))"
   ]
  },
  {
   "cell_type": "code",
   "execution_count": 62,
   "metadata": {
    "execution": {
     "iopub.execute_input": "2020-09-26T17:04:05.402923Z",
     "iopub.status.busy": "2020-09-26T17:04:05.402305Z",
     "iopub.status.idle": "2020-09-26T17:04:05.406897Z",
     "shell.execute_reply": "2020-09-26T17:04:05.407336Z"
    },
    "papermill": {
     "duration": 0.100501,
     "end_time": "2020-09-26T17:04:05.407463",
     "exception": false,
     "start_time": "2020-09-26T17:04:05.306962",
     "status": "completed"
    },
    "tags": []
   },
   "outputs": [],
   "source": [
    "pre5=dc.predict(X_test)"
   ]
  },
  {
   "cell_type": "code",
   "execution_count": 63,
   "metadata": {
    "execution": {
     "iopub.execute_input": "2020-09-26T17:04:05.597189Z",
     "iopub.status.busy": "2020-09-26T17:04:05.596248Z",
     "iopub.status.idle": "2020-09-26T17:04:05.600454Z",
     "shell.execute_reply": "2020-09-26T17:04:05.599942Z"
    },
    "papermill": {
     "duration": 0.100433,
     "end_time": "2020-09-26T17:04:05.600537",
     "exception": false,
     "start_time": "2020-09-26T17:04:05.500104",
     "status": "completed"
    },
    "tags": []
   },
   "outputs": [
    {
     "name": "stdout",
     "output_type": "stream",
     "text": [
      "0.9711538461538461\n",
      "[[39  2]\n",
      " [ 1 62]]\n"
     ]
    }
   ],
   "source": [
    "Decisiontress_classifier=accuracy_score(pre5,y_test)\n",
    "print(accuracy_score(pre5,y_test))\n",
    "print(confusion_matrix(pre5,y_test))"
   ]
  },
  {
   "cell_type": "code",
   "execution_count": 64,
   "metadata": {
    "execution": {
     "iopub.execute_input": "2020-09-26T17:04:05.800117Z",
     "iopub.status.busy": "2020-09-26T17:04:05.799551Z",
     "iopub.status.idle": "2020-09-26T17:04:05.810542Z",
     "shell.execute_reply": "2020-09-26T17:04:05.811173Z"
    },
    "papermill": {
     "duration": 0.115962,
     "end_time": "2020-09-26T17:04:05.811298",
     "exception": false,
     "start_time": "2020-09-26T17:04:05.695336",
     "status": "completed"
    },
    "tags": []
   },
   "outputs": [
    {
     "name": "stdout",
     "output_type": "stream",
     "text": [
      "              precision    recall  f1-score   support\n",
      "\n",
      "           0       0.97      0.95      0.96        41\n",
      "           1       0.97      0.98      0.98        63\n",
      "\n",
      "    accuracy                           0.97       104\n",
      "   macro avg       0.97      0.97      0.97       104\n",
      "weighted avg       0.97      0.97      0.97       104\n",
      "\n"
     ]
    }
   ],
   "source": [
    "from sklearn.metrics import classification_report\n",
    "print(classification_report(pre5,y_test))"
   ]
  },
  {
   "cell_type": "markdown",
   "metadata": {
    "papermill": {
     "duration": 0.10095,
     "end_time": "2020-09-26T17:04:06.010341",
     "exception": false,
     "start_time": "2020-09-26T17:04:05.909391",
     "status": "completed"
    },
    "tags": []
   },
   "source": [
    "# Random Forest Classifier"
   ]
  },
  {
   "cell_type": "code",
   "execution_count": 65,
   "metadata": {
    "execution": {
     "iopub.execute_input": "2020-09-26T17:04:06.211445Z",
     "iopub.status.busy": "2020-09-26T17:04:06.208738Z",
     "iopub.status.idle": "2020-09-26T17:04:15.769607Z",
     "shell.execute_reply": "2020-09-26T17:04:15.769102Z"
    },
    "papermill": {
     "duration": 9.658438,
     "end_time": "2020-09-26T17:04:15.769729",
     "exception": false,
     "start_time": "2020-09-26T17:04:06.111291",
     "status": "completed"
    },
    "tags": []
   },
   "outputs": [],
   "source": [
    "from sklearn.ensemble import RandomForestClassifier\n",
    "estime=[]\n",
    "for i in range(1,100):\n",
    "    rc=RandomForestClassifier(n_estimators=i,criterion='entropy',random_state=0)\n",
    "    rc.fit(X_train,y_train)\n",
    "    "
   ]
  },
  {
   "cell_type": "code",
   "execution_count": 66,
   "metadata": {
    "execution": {
     "iopub.execute_input": "2020-09-26T17:04:15.971904Z",
     "iopub.status.busy": "2020-09-26T17:04:15.964736Z",
     "iopub.status.idle": "2020-09-26T17:04:17.925965Z",
     "shell.execute_reply": "2020-09-26T17:04:17.926739Z"
    },
    "papermill": {
     "duration": 2.061047,
     "end_time": "2020-09-26T17:04:17.926931",
     "exception": false,
     "start_time": "2020-09-26T17:04:15.865884",
     "status": "completed"
    },
    "tags": []
   },
   "outputs": [
    {
     "name": "stdout",
     "output_type": "stream",
     "text": [
      "accuracy is 89.90 %\n",
      "std is 5.60 %\n"
     ]
    }
   ],
   "source": [
    "from sklearn.model_selection import cross_val_score\n",
    "accuracies = cross_val_score(estimator=rc, X=X_train ,y=y_train,cv=10)\n",
    "print(\"accuracy is {:.2f} %\".format(accuracies.mean()*100))\n",
    "print(\"std is {:.2f} %\".format(accuracies.std()*100))"
   ]
  },
  {
   "cell_type": "code",
   "execution_count": 67,
   "metadata": {
    "execution": {
     "iopub.execute_input": "2020-09-26T17:04:18.130389Z",
     "iopub.status.busy": "2020-09-26T17:04:18.129761Z",
     "iopub.status.idle": "2020-09-26T17:04:18.143371Z",
     "shell.execute_reply": "2020-09-26T17:04:18.143830Z"
    },
    "papermill": {
     "duration": 0.117963,
     "end_time": "2020-09-26T17:04:18.143954",
     "exception": false,
     "start_time": "2020-09-26T17:04:18.025991",
     "status": "completed"
    },
    "tags": []
   },
   "outputs": [],
   "source": [
    "pre6 = rc.predict(X_test)"
   ]
  },
  {
   "cell_type": "code",
   "execution_count": 68,
   "metadata": {
    "execution": {
     "iopub.execute_input": "2020-09-26T17:04:18.341473Z",
     "iopub.status.busy": "2020-09-26T17:04:18.340888Z",
     "iopub.status.idle": "2020-09-26T17:04:18.348509Z",
     "shell.execute_reply": "2020-09-26T17:04:18.348915Z"
    },
    "papermill": {
     "duration": 0.106373,
     "end_time": "2020-09-26T17:04:18.349035",
     "exception": false,
     "start_time": "2020-09-26T17:04:18.242662",
     "status": "completed"
    },
    "tags": []
   },
   "outputs": [
    {
     "name": "stdout",
     "output_type": "stream",
     "text": [
      "0.9807692307692307\n",
      "[[39  1]\n",
      " [ 1 63]]\n"
     ]
    }
   ],
   "source": [
    "Random_forest=accuracy_score(pre6,y_test)\n",
    "print(accuracy_score(pre6,y_test))\n",
    "print(confusion_matrix(pre6,y_test))"
   ]
  },
  {
   "cell_type": "code",
   "execution_count": 69,
   "metadata": {
    "execution": {
     "iopub.execute_input": "2020-09-26T17:04:18.546545Z",
     "iopub.status.busy": "2020-09-26T17:04:18.545496Z",
     "iopub.status.idle": "2020-09-26T17:04:18.554731Z",
     "shell.execute_reply": "2020-09-26T17:04:18.554206Z"
    },
    "papermill": {
     "duration": 0.110949,
     "end_time": "2020-09-26T17:04:18.554841",
     "exception": false,
     "start_time": "2020-09-26T17:04:18.443892",
     "status": "completed"
    },
    "tags": []
   },
   "outputs": [
    {
     "name": "stdout",
     "output_type": "stream",
     "text": [
      "              precision    recall  f1-score   support\n",
      "\n",
      "           0       0.97      0.97      0.97        40\n",
      "           1       0.98      0.98      0.98        64\n",
      "\n",
      "    accuracy                           0.98       104\n",
      "   macro avg       0.98      0.98      0.98       104\n",
      "weighted avg       0.98      0.98      0.98       104\n",
      "\n"
     ]
    }
   ],
   "source": [
    "from sklearn.metrics import classification_report\n",
    "print(classification_report(pre6,y_test))"
   ]
  },
  {
   "cell_type": "markdown",
   "metadata": {
    "papermill": {
     "duration": 0.098347,
     "end_time": "2020-09-26T17:04:18.749804",
     "exception": false,
     "start_time": "2020-09-26T17:04:18.651457",
     "status": "completed"
    },
    "tags": []
   },
   "source": [
    "# Accuracies of all classification model overview"
   ]
  },
  {
   "cell_type": "code",
   "execution_count": 70,
   "metadata": {
    "execution": {
     "iopub.execute_input": "2020-09-26T17:04:18.957959Z",
     "iopub.status.busy": "2020-09-26T17:04:18.957212Z",
     "iopub.status.idle": "2020-09-26T17:04:18.963243Z",
     "shell.execute_reply": "2020-09-26T17:04:18.962753Z"
    },
    "papermill": {
     "duration": 0.114134,
     "end_time": "2020-09-26T17:04:18.963351",
     "exception": false,
     "start_time": "2020-09-26T17:04:18.849217",
     "status": "completed"
    },
    "tags": []
   },
   "outputs": [
    {
     "name": "stdout",
     "output_type": "stream",
     "text": [
      "Logistic regression: 0.8942307692307693\n",
      "svmlinear: 0.9038461538461539\n",
      "svmrbf: 0.9807692307692307\n",
      "knn: [98.08]\n",
      "naive bayes: 0.8557692307692307\n",
      "Decision tress: 0.9711538461538461\n",
      "Random forest: 0.9807692307692307\n"
     ]
    }
   ],
   "source": [
    "print('Logistic regression:',logistic_regression)\n",
    "print('svmlinear:',svm_linear)\n",
    "print('svmrbf:',svm_rbf)\n",
    "print('knn:',knn)\n",
    "print('naive bayes:',Naive_bayes_Gaussian_nb)\n",
    "print('Decision tress:',Decisiontress_classifier)\n",
    "print('Random forest:',Random_forest)"
   ]
  },
  {
   "cell_type": "markdown",
   "metadata": {
    "papermill": {
     "duration": 0.099683,
     "end_time": "2020-09-26T17:04:19.164643",
     "exception": false,
     "start_time": "2020-09-26T17:04:19.064960",
     "status": "completed"
    },
    "tags": []
   },
   "source": [
    "**The best model is SVM , KNN and Random forest  with 98% Accuracy**"
   ]
  },
  {
   "cell_type": "markdown",
   "metadata": {
    "papermill": {
     "duration": 0.095185,
     "end_time": "2020-09-26T17:04:19.354801",
     "exception": false,
     "start_time": "2020-09-26T17:04:19.259616",
     "status": "completed"
    },
    "tags": []
   },
   "source": [
    "# PLEASE UPVOTE\n",
    "This will keep me motivated."
   ]
  }
 ],
 "metadata": {
  "kernelspec": {
   "display_name": "Python 3",
   "language": "python",
   "name": "python3"
  },
  "language_info": {
   "codemirror_mode": {
    "name": "ipython",
    "version": 3
   },
   "file_extension": ".py",
   "mimetype": "text/x-python",
   "name": "python",
   "nbconvert_exporter": "python",
   "pygments_lexer": "ipython3",
   "version": "3.7.6"
  },
  "papermill": {
   "duration": 40.498453,
   "end_time": "2020-09-26T17:04:19.558860",
   "environment_variables": {},
   "exception": null,
   "input_path": "__notebook__.ipynb",
   "output_path": "__notebook__.ipynb",
   "parameters": {},
   "start_time": "2020-09-26T17:03:39.060407",
   "version": "2.1.0"
  }
 },
 "nbformat": 4,
 "nbformat_minor": 4
}
